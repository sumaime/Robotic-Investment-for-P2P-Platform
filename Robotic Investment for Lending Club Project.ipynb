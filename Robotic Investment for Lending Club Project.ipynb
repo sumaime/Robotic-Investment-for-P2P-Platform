{
 "cells": [
  {
   "cell_type": "markdown",
   "metadata": {},
   "source": [
    "# Robotic Investment for Lending Club Project"
   ]
  },
  {
   "cell_type": "code",
   "execution_count": 2,
   "metadata": {
    "collapsed": false
   },
   "outputs": [
    {
     "name": "stderr",
     "output_type": "stream",
     "text": [
      "/anaconda/lib/python3.6/site-packages/sklearn/cross_validation.py:41: DeprecationWarning: This module was deprecated in version 0.18 in favor of the model_selection module into which all the refactored classes and functions are moved. Also note that the interface of the new CV iterators are different from that of this module. This module will be removed in 0.20.\n",
      "  \"This module will be removed in 0.20.\", DeprecationWarning)\n"
     ]
    }
   ],
   "source": [
    "import pandas as pd\n",
    "import numpy as np\n",
    "import matplotlib.pyplot as plt\n",
    "%matplotlib inline\n",
    "import seaborn as sns\n",
    "\n",
    "import datetime\n",
    "from sklearn.cross_validation import train_test_split\n",
    "from sklearn import metrics, preprocessing, cross_validation\n",
    "import xgboost as xgb"
   ]
  },
  {
   "cell_type": "markdown",
   "metadata": {},
   "source": [
    "## Data Initiation\n",
    "\n",
    "Import data, which is downloaded from LendingClub website."
   ]
  },
  {
   "cell_type": "code",
   "execution_count": 3,
   "metadata": {
    "collapsed": false,
    "scrolled": true
   },
   "outputs": [
    {
     "name": "stderr",
     "output_type": "stream",
     "text": [
      "/anaconda/lib/python3.6/site-packages/IPython/core/interactiveshell.py:2717: DtypeWarning: Columns (19) have mixed types. Specify dtype option on import or set low_memory=False.\n",
      "  interactivity=interactivity, compiler=compiler, result=result)\n"
     ]
    }
   ],
   "source": [
    "loan2014 = pd.read_csv('FinTech_Loan_Data_2014/LoanStats3c2014.csv',error_bad_lines=False,encoding='latin-1')"
   ]
  },
  {
   "cell_type": "code",
   "execution_count": 4,
   "metadata": {
    "collapsed": false
   },
   "outputs": [
    {
     "name": "stderr",
     "output_type": "stream",
     "text": [
      "/anaconda/lib/python3.6/site-packages/IPython/core/interactiveshell.py:2717: DtypeWarning: Columns (19,55) have mixed types. Specify dtype option on import or set low_memory=False.\n",
      "  interactivity=interactivity, compiler=compiler, result=result)\n"
     ]
    }
   ],
   "source": [
    "loan2015 = pd.read_csv('FinTech_Loan_Data_2015/LoanStats3d.csv',error_bad_lines=False,encoding='latin-1')"
   ]
  },
  {
   "cell_type": "code",
   "execution_count": 5,
   "metadata": {
    "collapsed": false
   },
   "outputs": [
    {
     "name": "stdout",
     "output_type": "stream",
     "text": [
      "Data shape for 2014:  (235629, 145)\n",
      "Data shape for 2015:  (421095, 145)\n",
      "Data shape for fulldata:  (656724, 145)\n"
     ]
    }
   ],
   "source": [
    "print('Data shape for 2014: ',loan2014.shape)\n",
    "print('Data shape for 2015: ',loan2015.shape)\n",
    "# Combined 2 years data\n",
    "fulldata = pd.concat([loan2014,loan2015])\n",
    "print('Data shape for fulldata: ',fulldata.shape)"
   ]
  },
  {
   "cell_type": "markdown",
   "metadata": {},
   "source": [
    "Since we only care about data with the loan term 36 month and with a certain loan status(Fully paid and charged off), we made some adjustment on data first."
   ]
  },
  {
   "cell_type": "markdown",
   "metadata": {},
   "source": [
    "## Data preparation"
   ]
  },
  {
   "cell_type": "markdown",
   "metadata": {},
   "source": [
    "### NaN values\n",
    "Through checking the data, we can see there are too many NAN values in df for some features and we should delete them. "
   ]
  },
  {
   "cell_type": "code",
   "execution_count": 6,
   "metadata": {
    "collapsed": true
   },
   "outputs": [],
   "source": [
    "# Detect how many value are missing in df\n",
    "def missing_value_detector(dataframe):\n",
    "    missing_df = dataframe.isnull().sum().reset_index()\n",
    "    missing_df.columns = ['feature','numMissing']\n",
    "    missing_df['missingPercent'] = round(missing_df['numMissing']/len(dataframe),2)\n",
    "    missing_df = missing_df.loc[missing_df['missingPercent']>0]\n",
    "    missing_df = missing_df.sort_values(by='missingPercent')\n",
    "    \n",
    "    return missing_df"
   ]
  },
  {
   "cell_type": "code",
   "execution_count": 7,
   "metadata": {
    "collapsed": false
   },
   "outputs": [
    {
     "data": {
      "text/html": [
       "<div>\n",
       "<style>\n",
       "    .dataframe thead tr:only-child th {\n",
       "        text-align: right;\n",
       "    }\n",
       "\n",
       "    .dataframe thead th {\n",
       "        text-align: left;\n",
       "    }\n",
       "\n",
       "    .dataframe tbody tr th {\n",
       "        vertical-align: top;\n",
       "    }\n",
       "</style>\n",
       "<table border=\"1\" class=\"dataframe\">\n",
       "  <thead>\n",
       "    <tr style=\"text-align: right;\">\n",
       "      <th></th>\n",
       "      <th>feature</th>\n",
       "      <th>numMissing</th>\n",
       "      <th>missingPercent</th>\n",
       "    </tr>\n",
       "  </thead>\n",
       "  <tbody>\n",
       "    <tr>\n",
       "      <th>85</th>\n",
       "      <td>mths_since_recent_bc</td>\n",
       "      <td>6044</td>\n",
       "      <td>0.01</td>\n",
       "    </tr>\n",
       "    <tr>\n",
       "      <th>77</th>\n",
       "      <td>bc_util</td>\n",
       "      <td>6838</td>\n",
       "      <td>0.01</td>\n",
       "    </tr>\n",
       "    <tr>\n",
       "      <th>76</th>\n",
       "      <td>bc_open_to_buy</td>\n",
       "      <td>6408</td>\n",
       "      <td>0.01</td>\n",
       "    </tr>\n",
       "    <tr>\n",
       "      <th>104</th>\n",
       "      <td>percent_bc_gt_75</td>\n",
       "      <td>6796</td>\n",
       "      <td>0.01</td>\n",
       "    </tr>\n",
       "    <tr>\n",
       "      <th>80</th>\n",
       "      <td>mo_sin_old_il_acct</td>\n",
       "      <td>19425</td>\n",
       "      <td>0.03</td>\n",
       "    </tr>\n",
       "    <tr>\n",
       "      <th>99</th>\n",
       "      <td>num_tl_120dpd_2m</td>\n",
       "      <td>27090</td>\n",
       "      <td>0.04</td>\n",
       "    </tr>\n",
       "    <tr>\n",
       "      <th>10</th>\n",
       "      <td>emp_title</td>\n",
       "      <td>37110</td>\n",
       "      <td>0.06</td>\n",
       "    </tr>\n",
       "    <tr>\n",
       "      <th>87</th>\n",
       "      <td>mths_since_recent_inq</td>\n",
       "      <td>66291</td>\n",
       "      <td>0.10</td>\n",
       "    </tr>\n",
       "    <tr>\n",
       "      <th>28</th>\n",
       "      <td>mths_since_last_delinq</td>\n",
       "      <td>319843</td>\n",
       "      <td>0.49</td>\n",
       "    </tr>\n",
       "    <tr>\n",
       "      <th>88</th>\n",
       "      <td>mths_since_recent_revol_delinq</td>\n",
       "      <td>420221</td>\n",
       "      <td>0.64</td>\n",
       "    </tr>\n",
       "    <tr>\n",
       "      <th>50</th>\n",
       "      <td>mths_since_last_major_derog</td>\n",
       "      <td>467517</td>\n",
       "      <td>0.71</td>\n",
       "    </tr>\n",
       "    <tr>\n",
       "      <th>86</th>\n",
       "      <td>mths_since_recent_bc_dlq</td>\n",
       "      <td>485843</td>\n",
       "      <td>0.74</td>\n",
       "    </tr>\n",
       "    <tr>\n",
       "      <th>47</th>\n",
       "      <td>next_pymnt_d</td>\n",
       "      <td>512783</td>\n",
       "      <td>0.78</td>\n",
       "    </tr>\n",
       "    <tr>\n",
       "      <th>29</th>\n",
       "      <td>mths_since_last_record</td>\n",
       "      <td>540785</td>\n",
       "      <td>0.82</td>\n",
       "    </tr>\n",
       "    <tr>\n",
       "      <th>73</th>\n",
       "      <td>inq_last_12m</td>\n",
       "      <td>635352</td>\n",
       "      <td>0.97</td>\n",
       "    </tr>\n",
       "    <tr>\n",
       "      <th>72</th>\n",
       "      <td>total_cu_tl</td>\n",
       "      <td>635352</td>\n",
       "      <td>0.97</td>\n",
       "    </tr>\n",
       "    <tr>\n",
       "      <th>71</th>\n",
       "      <td>inq_fi</td>\n",
       "      <td>635352</td>\n",
       "      <td>0.97</td>\n",
       "    </tr>\n",
       "    <tr>\n",
       "      <th>69</th>\n",
       "      <td>all_util</td>\n",
       "      <td>635352</td>\n",
       "      <td>0.97</td>\n",
       "    </tr>\n",
       "    <tr>\n",
       "      <th>68</th>\n",
       "      <td>max_bal_bc</td>\n",
       "      <td>635352</td>\n",
       "      <td>0.97</td>\n",
       "    </tr>\n",
       "    <tr>\n",
       "      <th>67</th>\n",
       "      <td>open_rv_24m</td>\n",
       "      <td>635352</td>\n",
       "      <td>0.97</td>\n",
       "    </tr>\n",
       "    <tr>\n",
       "      <th>65</th>\n",
       "      <td>il_util</td>\n",
       "      <td>638107</td>\n",
       "      <td>0.97</td>\n",
       "    </tr>\n",
       "    <tr>\n",
       "      <th>64</th>\n",
       "      <td>total_bal_il</td>\n",
       "      <td>635352</td>\n",
       "      <td>0.97</td>\n",
       "    </tr>\n",
       "    <tr>\n",
       "      <th>63</th>\n",
       "      <td>mths_since_rcnt_il</td>\n",
       "      <td>635914</td>\n",
       "      <td>0.97</td>\n",
       "    </tr>\n",
       "    <tr>\n",
       "      <th>61</th>\n",
       "      <td>open_il_12m</td>\n",
       "      <td>635352</td>\n",
       "      <td>0.97</td>\n",
       "    </tr>\n",
       "    <tr>\n",
       "      <th>60</th>\n",
       "      <td>open_act_il</td>\n",
       "      <td>635352</td>\n",
       "      <td>0.97</td>\n",
       "    </tr>\n",
       "    <tr>\n",
       "      <th>59</th>\n",
       "      <td>open_acc_6m</td>\n",
       "      <td>635352</td>\n",
       "      <td>0.97</td>\n",
       "    </tr>\n",
       "    <tr>\n",
       "      <th>66</th>\n",
       "      <td>open_rv_12m</td>\n",
       "      <td>635352</td>\n",
       "      <td>0.97</td>\n",
       "    </tr>\n",
       "    <tr>\n",
       "      <th>62</th>\n",
       "      <td>open_il_24m</td>\n",
       "      <td>635352</td>\n",
       "      <td>0.97</td>\n",
       "    </tr>\n",
       "    <tr>\n",
       "      <th>139</th>\n",
       "      <td>debt_settlement_flag_date</td>\n",
       "      <td>644194</td>\n",
       "      <td>0.98</td>\n",
       "    </tr>\n",
       "    <tr>\n",
       "      <th>140</th>\n",
       "      <td>settlement_status</td>\n",
       "      <td>644194</td>\n",
       "      <td>0.98</td>\n",
       "    </tr>\n",
       "    <tr>\n",
       "      <th>...</th>\n",
       "      <td>...</td>\n",
       "      <td>...</td>\n",
       "      <td>...</td>\n",
       "    </tr>\n",
       "    <tr>\n",
       "      <th>1</th>\n",
       "      <td>member_id</td>\n",
       "      <td>656724</td>\n",
       "      <td>1.00</td>\n",
       "    </tr>\n",
       "    <tr>\n",
       "      <th>18</th>\n",
       "      <td>url</td>\n",
       "      <td>656724</td>\n",
       "      <td>1.00</td>\n",
       "    </tr>\n",
       "    <tr>\n",
       "      <th>53</th>\n",
       "      <td>annual_inc_joint</td>\n",
       "      <td>656213</td>\n",
       "      <td>1.00</td>\n",
       "    </tr>\n",
       "    <tr>\n",
       "      <th>136</th>\n",
       "      <td>hardship_last_payment_amount</td>\n",
       "      <td>654086</td>\n",
       "      <td>1.00</td>\n",
       "    </tr>\n",
       "    <tr>\n",
       "      <th>135</th>\n",
       "      <td>hardship_payoff_balance_amount</td>\n",
       "      <td>654086</td>\n",
       "      <td>1.00</td>\n",
       "    </tr>\n",
       "    <tr>\n",
       "      <th>134</th>\n",
       "      <td>orig_projected_additional_accrued_interest</td>\n",
       "      <td>654569</td>\n",
       "      <td>1.00</td>\n",
       "    </tr>\n",
       "    <tr>\n",
       "      <th>133</th>\n",
       "      <td>hardship_loan_status</td>\n",
       "      <td>654086</td>\n",
       "      <td>1.00</td>\n",
       "    </tr>\n",
       "    <tr>\n",
       "      <th>132</th>\n",
       "      <td>hardship_dpd</td>\n",
       "      <td>654086</td>\n",
       "      <td>1.00</td>\n",
       "    </tr>\n",
       "    <tr>\n",
       "      <th>131</th>\n",
       "      <td>hardship_length</td>\n",
       "      <td>654086</td>\n",
       "      <td>1.00</td>\n",
       "    </tr>\n",
       "    <tr>\n",
       "      <th>130</th>\n",
       "      <td>payment_plan_start_date</td>\n",
       "      <td>654086</td>\n",
       "      <td>1.00</td>\n",
       "    </tr>\n",
       "    <tr>\n",
       "      <th>129</th>\n",
       "      <td>hardship_end_date</td>\n",
       "      <td>654086</td>\n",
       "      <td>1.00</td>\n",
       "    </tr>\n",
       "    <tr>\n",
       "      <th>128</th>\n",
       "      <td>hardship_start_date</td>\n",
       "      <td>654086</td>\n",
       "      <td>1.00</td>\n",
       "    </tr>\n",
       "    <tr>\n",
       "      <th>127</th>\n",
       "      <td>hardship_amount</td>\n",
       "      <td>654086</td>\n",
       "      <td>1.00</td>\n",
       "    </tr>\n",
       "    <tr>\n",
       "      <th>126</th>\n",
       "      <td>deferral_term</td>\n",
       "      <td>654086</td>\n",
       "      <td>1.00</td>\n",
       "    </tr>\n",
       "    <tr>\n",
       "      <th>124</th>\n",
       "      <td>hardship_reason</td>\n",
       "      <td>654086</td>\n",
       "      <td>1.00</td>\n",
       "    </tr>\n",
       "    <tr>\n",
       "      <th>123</th>\n",
       "      <td>hardship_type</td>\n",
       "      <td>654086</td>\n",
       "      <td>1.00</td>\n",
       "    </tr>\n",
       "    <tr>\n",
       "      <th>121</th>\n",
       "      <td>sec_app_mths_since_last_major_derog</td>\n",
       "      <td>656724</td>\n",
       "      <td>1.00</td>\n",
       "    </tr>\n",
       "    <tr>\n",
       "      <th>120</th>\n",
       "      <td>sec_app_collections_12_mths_ex_med</td>\n",
       "      <td>656724</td>\n",
       "      <td>1.00</td>\n",
       "    </tr>\n",
       "    <tr>\n",
       "      <th>119</th>\n",
       "      <td>sec_app_chargeoff_within_12_mths</td>\n",
       "      <td>656724</td>\n",
       "      <td>1.00</td>\n",
       "    </tr>\n",
       "    <tr>\n",
       "      <th>118</th>\n",
       "      <td>sec_app_num_rev_accts</td>\n",
       "      <td>656724</td>\n",
       "      <td>1.00</td>\n",
       "    </tr>\n",
       "    <tr>\n",
       "      <th>117</th>\n",
       "      <td>sec_app_open_act_il</td>\n",
       "      <td>656724</td>\n",
       "      <td>1.00</td>\n",
       "    </tr>\n",
       "    <tr>\n",
       "      <th>116</th>\n",
       "      <td>sec_app_revol_util</td>\n",
       "      <td>656724</td>\n",
       "      <td>1.00</td>\n",
       "    </tr>\n",
       "    <tr>\n",
       "      <th>115</th>\n",
       "      <td>sec_app_open_acc</td>\n",
       "      <td>656724</td>\n",
       "      <td>1.00</td>\n",
       "    </tr>\n",
       "    <tr>\n",
       "      <th>114</th>\n",
       "      <td>sec_app_mort_acc</td>\n",
       "      <td>656724</td>\n",
       "      <td>1.00</td>\n",
       "    </tr>\n",
       "    <tr>\n",
       "      <th>113</th>\n",
       "      <td>sec_app_inq_last_6mths</td>\n",
       "      <td>656724</td>\n",
       "      <td>1.00</td>\n",
       "    </tr>\n",
       "    <tr>\n",
       "      <th>112</th>\n",
       "      <td>sec_app_earliest_cr_line</td>\n",
       "      <td>656724</td>\n",
       "      <td>1.00</td>\n",
       "    </tr>\n",
       "    <tr>\n",
       "      <th>111</th>\n",
       "      <td>revol_bal_joint</td>\n",
       "      <td>656724</td>\n",
       "      <td>1.00</td>\n",
       "    </tr>\n",
       "    <tr>\n",
       "      <th>54</th>\n",
       "      <td>dti_joint</td>\n",
       "      <td>656215</td>\n",
       "      <td>1.00</td>\n",
       "    </tr>\n",
       "    <tr>\n",
       "      <th>125</th>\n",
       "      <td>hardship_status</td>\n",
       "      <td>654086</td>\n",
       "      <td>1.00</td>\n",
       "    </tr>\n",
       "    <tr>\n",
       "      <th>0</th>\n",
       "      <td>id</td>\n",
       "      <td>656724</td>\n",
       "      <td>1.00</td>\n",
       "    </tr>\n",
       "  </tbody>\n",
       "</table>\n",
       "<p>66 rows × 3 columns</p>\n",
       "</div>"
      ],
      "text/plain": [
       "                                        feature  numMissing  missingPercent\n",
       "85                         mths_since_recent_bc        6044            0.01\n",
       "77                                      bc_util        6838            0.01\n",
       "76                               bc_open_to_buy        6408            0.01\n",
       "104                            percent_bc_gt_75        6796            0.01\n",
       "80                           mo_sin_old_il_acct       19425            0.03\n",
       "99                             num_tl_120dpd_2m       27090            0.04\n",
       "10                                    emp_title       37110            0.06\n",
       "87                        mths_since_recent_inq       66291            0.10\n",
       "28                       mths_since_last_delinq      319843            0.49\n",
       "88               mths_since_recent_revol_delinq      420221            0.64\n",
       "50                  mths_since_last_major_derog      467517            0.71\n",
       "86                     mths_since_recent_bc_dlq      485843            0.74\n",
       "47                                 next_pymnt_d      512783            0.78\n",
       "29                       mths_since_last_record      540785            0.82\n",
       "73                                 inq_last_12m      635352            0.97\n",
       "72                                  total_cu_tl      635352            0.97\n",
       "71                                       inq_fi      635352            0.97\n",
       "69                                     all_util      635352            0.97\n",
       "68                                   max_bal_bc      635352            0.97\n",
       "67                                  open_rv_24m      635352            0.97\n",
       "65                                      il_util      638107            0.97\n",
       "64                                 total_bal_il      635352            0.97\n",
       "63                           mths_since_rcnt_il      635914            0.97\n",
       "61                                  open_il_12m      635352            0.97\n",
       "60                                  open_act_il      635352            0.97\n",
       "59                                  open_acc_6m      635352            0.97\n",
       "66                                  open_rv_12m      635352            0.97\n",
       "62                                  open_il_24m      635352            0.97\n",
       "139                   debt_settlement_flag_date      644194            0.98\n",
       "140                           settlement_status      644194            0.98\n",
       "..                                          ...         ...             ...\n",
       "1                                     member_id      656724            1.00\n",
       "18                                          url      656724            1.00\n",
       "53                             annual_inc_joint      656213            1.00\n",
       "136                hardship_last_payment_amount      654086            1.00\n",
       "135              hardship_payoff_balance_amount      654086            1.00\n",
       "134  orig_projected_additional_accrued_interest      654569            1.00\n",
       "133                        hardship_loan_status      654086            1.00\n",
       "132                                hardship_dpd      654086            1.00\n",
       "131                             hardship_length      654086            1.00\n",
       "130                     payment_plan_start_date      654086            1.00\n",
       "129                           hardship_end_date      654086            1.00\n",
       "128                         hardship_start_date      654086            1.00\n",
       "127                             hardship_amount      654086            1.00\n",
       "126                               deferral_term      654086            1.00\n",
       "124                             hardship_reason      654086            1.00\n",
       "123                               hardship_type      654086            1.00\n",
       "121         sec_app_mths_since_last_major_derog      656724            1.00\n",
       "120          sec_app_collections_12_mths_ex_med      656724            1.00\n",
       "119            sec_app_chargeoff_within_12_mths      656724            1.00\n",
       "118                       sec_app_num_rev_accts      656724            1.00\n",
       "117                         sec_app_open_act_il      656724            1.00\n",
       "116                          sec_app_revol_util      656724            1.00\n",
       "115                            sec_app_open_acc      656724            1.00\n",
       "114                            sec_app_mort_acc      656724            1.00\n",
       "113                      sec_app_inq_last_6mths      656724            1.00\n",
       "112                    sec_app_earliest_cr_line      656724            1.00\n",
       "111                             revol_bal_joint      656724            1.00\n",
       "54                                    dti_joint      656215            1.00\n",
       "125                             hardship_status      654086            1.00\n",
       "0                                            id      656724            1.00\n",
       "\n",
       "[66 rows x 3 columns]"
      ]
     },
     "execution_count": 7,
     "metadata": {},
     "output_type": "execute_result"
    }
   ],
   "source": [
    "# Check the missing value percentage in the dataframe\n",
    "missing_value_detector(fulldata)"
   ]
  },
  {
   "cell_type": "code",
   "execution_count": 8,
   "metadata": {
    "collapsed": true
   },
   "outputs": [],
   "source": [
    "# Select and delete the features that contains more than 40% of missing values\n",
    "missingToomuch = list(missing_value_detector(fulldata).loc[missing_value_detector(fulldata)['missingPercent']>0.4]['feature'])\n",
    "fulldata.drop(fulldata[missingToomuch],axis=1,inplace = True)"
   ]
  },
  {
   "cell_type": "code",
   "execution_count": 9,
   "metadata": {
    "collapsed": false
   },
   "outputs": [
    {
     "name": "stdout",
     "output_type": "stream",
     "text": [
      "Fulldata shape is:  (656724, 87)\n"
     ]
    },
    {
     "data": {
      "text/html": [
       "<div>\n",
       "<style>\n",
       "    .dataframe thead tr:only-child th {\n",
       "        text-align: right;\n",
       "    }\n",
       "\n",
       "    .dataframe thead th {\n",
       "        text-align: left;\n",
       "    }\n",
       "\n",
       "    .dataframe tbody tr th {\n",
       "        vertical-align: top;\n",
       "    }\n",
       "</style>\n",
       "<table border=\"1\" class=\"dataframe\">\n",
       "  <thead>\n",
       "    <tr style=\"text-align: right;\">\n",
       "      <th></th>\n",
       "      <th>feature</th>\n",
       "      <th>numMissing</th>\n",
       "      <th>missingPercent</th>\n",
       "    </tr>\n",
       "  </thead>\n",
       "  <tbody>\n",
       "    <tr>\n",
       "      <th>51</th>\n",
       "      <td>bc_open_to_buy</td>\n",
       "      <td>6408</td>\n",
       "      <td>0.01</td>\n",
       "    </tr>\n",
       "    <tr>\n",
       "      <th>52</th>\n",
       "      <td>bc_util</td>\n",
       "      <td>6838</td>\n",
       "      <td>0.01</td>\n",
       "    </tr>\n",
       "    <tr>\n",
       "      <th>60</th>\n",
       "      <td>mths_since_recent_bc</td>\n",
       "      <td>6044</td>\n",
       "      <td>0.01</td>\n",
       "    </tr>\n",
       "    <tr>\n",
       "      <th>77</th>\n",
       "      <td>percent_bc_gt_75</td>\n",
       "      <td>6796</td>\n",
       "      <td>0.01</td>\n",
       "    </tr>\n",
       "    <tr>\n",
       "      <th>55</th>\n",
       "      <td>mo_sin_old_il_acct</td>\n",
       "      <td>19425</td>\n",
       "      <td>0.03</td>\n",
       "    </tr>\n",
       "    <tr>\n",
       "      <th>72</th>\n",
       "      <td>num_tl_120dpd_2m</td>\n",
       "      <td>27090</td>\n",
       "      <td>0.04</td>\n",
       "    </tr>\n",
       "    <tr>\n",
       "      <th>8</th>\n",
       "      <td>emp_title</td>\n",
       "      <td>37110</td>\n",
       "      <td>0.06</td>\n",
       "    </tr>\n",
       "    <tr>\n",
       "      <th>61</th>\n",
       "      <td>mths_since_recent_inq</td>\n",
       "      <td>66291</td>\n",
       "      <td>0.10</td>\n",
       "    </tr>\n",
       "  </tbody>\n",
       "</table>\n",
       "</div>"
      ],
      "text/plain": [
       "                  feature  numMissing  missingPercent\n",
       "51         bc_open_to_buy        6408            0.01\n",
       "52                bc_util        6838            0.01\n",
       "60   mths_since_recent_bc        6044            0.01\n",
       "77       percent_bc_gt_75        6796            0.01\n",
       "55     mo_sin_old_il_acct       19425            0.03\n",
       "72       num_tl_120dpd_2m       27090            0.04\n",
       "8               emp_title       37110            0.06\n",
       "61  mths_since_recent_inq       66291            0.10"
      ]
     },
     "execution_count": 9,
     "metadata": {},
     "output_type": "execute_result"
    }
   ],
   "source": [
    "print('Fulldata shape is: ',fulldata.shape)\n",
    "missing_value_detector(fulldata)"
   ]
  },
  {
   "cell_type": "code",
   "execution_count": null,
   "metadata": {
    "collapsed": true
   },
   "outputs": [],
   "source": []
  },
  {
   "cell_type": "markdown",
   "metadata": {},
   "source": [
    "### Categorical & Numerical features\n",
    "Select categorical and numerical features. Noted that some cols with dtypes of int may also be categorical."
   ]
  },
  {
   "cell_type": "code",
   "execution_count": 14,
   "metadata": {
    "collapsed": true
   },
   "outputs": [],
   "source": [
    "cat_features = list(fulldata.select_dtypes(include=['object']).columns)\n",
    "# select numerical features\n",
    "num_features = list(fulldata.select_dtypes(exclude=['object']).columns)"
   ]
  },
  {
   "cell_type": "markdown",
   "metadata": {},
   "source": [
    "\n",
    "Check the categorical features' distribution, we can see several features are actually \n",
    "\n",
    "* numerical(term, int_rate, etc.).\n",
    "\n",
    "* extremely unbalanced(pymnt_plan,application_type, etc.). \n",
    "\n",
    "* date-time features.\n",
    "\n",
    "* include only one value and has no meaning to exist in features. \n",
    "\n",
    "* contained many values but duplicated values due to capitalized words.\n",
    "\n",
    "\n",
    "We should reformat these features."
   ]
  },
  {
   "cell_type": "markdown",
   "metadata": {},
   "source": [
    "#### Catagorical"
   ]
  },
  {
   "cell_type": "code",
   "execution_count": 15,
   "metadata": {
    "collapsed": false
   },
   "outputs": [
    {
     "name": "stdout",
     "output_type": "stream",
     "text": [
      " 36 months    0.678737\n",
      " 60 months    0.321263\n",
      "Name: term, dtype: float64\n",
      "10.99%    0.046386\n",
      "9.17%     0.039152\n",
      "15.61%    0.034167\n",
      "7.89%     0.030917\n",
      "9.99%     0.029865\n",
      "12.29%    0.028239\n",
      "12.69%    0.027419\n",
      "8.18%     0.027121\n",
      "13.99%    0.027065\n",
      "13.33%    0.026751\n",
      "17.57%    0.026749\n",
      "11.53%    0.024637\n",
      "16.99%    0.024394\n",
      "12.99%    0.023336\n",
      "14.65%    0.020535\n",
      "11.99%    0.017557\n",
      "16.55%    0.016663\n",
      "17.86%    0.015908\n",
      "14.99%    0.015385\n",
      "12.49%    0.014776\n",
      "5.32%     0.014697\n",
      "7.26%     0.014370\n",
      "18.25%    0.014265\n",
      "13.98%    0.013485\n",
      "13.35%    0.011603\n",
      "6.24%     0.011372\n",
      "11.67%    0.011047\n",
      "14.49%    0.011029\n",
      "6.89%     0.010676\n",
      "19.99%    0.009362\n",
      "            ...   \n",
      "11.48%    0.000635\n",
      "21.48%    0.000627\n",
      "8.49%     0.000598\n",
      "13.44%    0.000580\n",
      "27.31%    0.000528\n",
      "14.85%    0.000518\n",
      "7.91%     0.000495\n",
      "26.06%    0.000463\n",
      "22.40%    0.000420\n",
      "15.77%    0.000393\n",
      "6.00%     0.000344\n",
      "27.88%    0.000338\n",
      "23.40%    0.000326\n",
      "22.90%    0.000323\n",
      "17.27%    0.000266\n",
      "17.97%    0.000256\n",
      "23.70%    0.000248\n",
      "28.49%    0.000212\n",
      "19.48%    0.000180\n",
      "28.99%    0.000171\n",
      "19.89%    0.000148\n",
      "23.13%    0.000072\n",
      "24.24%    0.000052\n",
      "25.09%    0.000021\n",
      "26.99%    0.000015\n",
      "27.49%    0.000011\n",
      "27.99%    0.000008\n",
      "19.20%    0.000002\n",
      "16.90%    0.000002\n",
      "17.50%    0.000002\n",
      "Name: int_rate, Length: 151, dtype: float64\n",
      "C    0.284948\n",
      "B    0.273389\n",
      "A    0.166651\n",
      "D    0.160868\n",
      "E    0.083854\n",
      "F    0.024424\n",
      "G    0.005865\n",
      "Name: grade, dtype: float64\n",
      "C1    0.060805\n",
      "C2    0.060088\n",
      "C3    0.058834\n",
      "B4    0.058771\n",
      "C4    0.057627\n",
      "B3    0.057424\n",
      "B5    0.056173\n",
      "A5    0.051498\n",
      "B2    0.051178\n",
      "B1    0.049843\n",
      "C5    0.047594\n",
      "D1    0.042418\n",
      "A4    0.037474\n",
      "D2    0.033958\n",
      "D3    0.030645\n",
      "D4    0.029449\n",
      "A1    0.026678\n",
      "A2    0.025525\n",
      "A3    0.025476\n",
      "D5    0.024398\n",
      "E1    0.022573\n",
      "E2    0.020048\n",
      "E3    0.016841\n",
      "E4    0.013450\n",
      "E5    0.010942\n",
      "F1    0.007938\n",
      "F2    0.005704\n",
      "F3    0.004638\n",
      "F4    0.003511\n",
      "F5    0.002633\n",
      "G1    0.001963\n",
      "G2    0.001526\n",
      "G3    0.001070\n",
      "G4    0.000693\n",
      "G5    0.000614\n",
      "Name: sub_grade, dtype: float64\n",
      "Teacher                                     0.020398\n",
      "Manager                                     0.017065\n",
      "Owner                                       0.008652\n",
      "Registered Nurse                            0.008342\n",
      "RN                                          0.008016\n",
      "Supervisor                                  0.007551\n",
      "Sales                                       0.006446\n",
      "Project Manager                             0.006023\n",
      "Driver                                      0.005461\n",
      "Office Manager                              0.005326\n",
      "General Manager                             0.004793\n",
      "Director                                    0.004792\n",
      "manager                                     0.004747\n",
      "owner                                       0.004588\n",
      "teacher                                     0.004472\n",
      "President                                   0.004091\n",
      "Engineer                                    0.004022\n",
      "driver                                      0.003686\n",
      "Vice President                              0.003607\n",
      "Attorney                                    0.003278\n",
      "Operations Manager                          0.003133\n",
      "Accountant                                  0.003057\n",
      "Administrative Assistant                    0.003042\n",
      "Sales Manager                               0.002803\n",
      "sales                                       0.002627\n",
      "Account Manager                             0.002616\n",
      "Police Officer                              0.002581\n",
      "supervisor                                  0.002529\n",
      "Executive Assistant                         0.002429\n",
      "Analyst                                     0.002330\n",
      "                                              ...   \n",
      "Inbound/Receiving                           0.000002\n",
      "Business development associate              0.000002\n",
      "Dev aide 2                                  0.000002\n",
      "legal records clerk                         0.000002\n",
      "VP, Region Commercial Collection Manager    0.000002\n",
      "senior Director                             0.000002\n",
      "IT Security Operation Lead                  0.000002\n",
      "money transfer operator                     0.000002\n",
      "INspector                                   0.000002\n",
      "Special Assets Representative               0.000002\n",
      "curier                                      0.000002\n",
      "Retention Supervisor                        0.000002\n",
      "lot lines sales                             0.000002\n",
      "Practice Manager/Dental hygienist           0.000002\n",
      "Director Intl Sales                         0.000002\n",
      "Heavy Maintenances or Services Tech         0.000002\n",
      "driver/warehouse tech                       0.000002\n",
      "Customer service/Sales                      0.000002\n",
      "Clinical Oncology Scheduler                 0.000002\n",
      "picker order                                0.000002\n",
      "Manager, Vehicle Maintenance Facility       0.000002\n",
      "Community Resource Development Specialis    0.000002\n",
      "Personnel Security                          0.000002\n",
      "ROffice Clerk                               0.000002\n",
      "Telesales Representative                    0.000002\n",
      "Product Manager, Financial Svcs             0.000002\n",
      "Xray Technicican                            0.000002\n",
      "billimg Coordinator                         0.000002\n",
      "Supervisor Information Security             0.000002\n",
      "Batch Manager                               0.000002\n",
      "Name: emp_title, Length: 171409, dtype: float64\n",
      "10+ years    0.336558\n",
      "2 years      0.088293\n",
      "< 1 year     0.079671\n",
      "3 years      0.078720\n",
      "1 year       0.064054\n",
      "4 years      0.057915\n",
      "5 years      0.057834\n",
      "n/a          0.054568\n",
      "8 years      0.050878\n",
      "7 years      0.047985\n",
      "6 years      0.043639\n",
      "9 years      0.039884\n",
      "Name: emp_length, dtype: float64\n",
      "MORTGAGE    0.498870\n",
      "RENT        0.396404\n",
      "OWN         0.104721\n",
      "ANY         0.000005\n",
      "Name: home_ownership, dtype: float64\n",
      "Source Verified    0.433447\n",
      "Verified           0.289688\n",
      "Not Verified       0.276865\n",
      "Name: verification_status, dtype: float64\n",
      "Oct-15    0.074051\n",
      "Jul-15    0.069987\n",
      "Dec-15    0.067522\n",
      "Oct-14    0.059055\n",
      "Nov-15    0.057147\n",
      "Aug-15    0.054644\n",
      "Apr-15    0.053945\n",
      "Jan-15    0.053458\n",
      "May-15    0.048594\n",
      "Jul-14    0.044625\n",
      "Sep-15    0.043612\n",
      "Jun-15    0.043374\n",
      "Mar-15    0.038677\n",
      "Nov-14    0.038150\n",
      "Feb-15    0.036195\n",
      "May-14    0.029082\n",
      "Apr-14    0.029040\n",
      "Aug-14    0.028648\n",
      "Jun-14    0.026159\n",
      "Mar-14    0.025145\n",
      "Jan-14    0.023797\n",
      "Feb-14    0.023250\n",
      "Sep-14    0.016150\n",
      "Dec-14    0.015695\n",
      "Name: issue_d, dtype: float64\n",
      "Fully Paid            0.616140\n",
      "Current               0.206754\n",
      "Charged Off           0.164680\n",
      "Late (31-120 days)    0.006098\n",
      "In Grace Period       0.004864\n",
      "Late (16-30 days)     0.001453\n",
      "Default               0.000012\n",
      "Name: loan_status, dtype: float64\n",
      "n    0.999869\n",
      "y    0.000131\n",
      "Name: pymnt_plan, dtype: float64\n",
      "debt_consolidation    0.598464\n",
      "credit_card           0.239898\n",
      "home_improvement      0.058378\n",
      "other                 0.045034\n",
      "major_purchase        0.017217\n",
      "medical               0.009546\n",
      "small_business        0.008590\n",
      "car                   0.008067\n",
      "moving                0.005707\n",
      "vacation              0.005218\n",
      "house                 0.003332\n",
      "renewable_energy      0.000528\n",
      "wedding               0.000018\n",
      "educational           0.000002\n",
      "Name: purpose, dtype: float64\n",
      "Debt consolidation                         0.594814\n",
      "Credit card refinancing                    0.238204\n",
      "Home improvement                           0.058094\n",
      "Other                                      0.044790\n",
      "Major purchase                             0.017135\n",
      "Medical expenses                           0.009487\n",
      "Business                                   0.008521\n",
      "Car financing                              0.008048\n",
      "Moving and relocation                      0.005698\n",
      "Vacation                                   0.005198\n",
      "Home buying                                0.003325\n",
      "Green loan                                 0.000527\n",
      "Debt Consolidation                         0.000524\n",
      "Consolidation                              0.000204\n",
      "debt consolidation                         0.000196\n",
      "Credit Card Consolidation                  0.000123\n",
      "consolidation                              0.000097\n",
      "Debt Consolidation Loan                    0.000067\n",
      "Home Improvement                           0.000050\n",
      "Personal Loan                              0.000050\n",
      "Credit Card Refinance                      0.000049\n",
      "Consolidation Loan                         0.000047\n",
      "Credit Card Payoff                         0.000041\n",
      "Consolidate                                0.000035\n",
      "Payoff                                     0.000032\n",
      "credit card refinance                      0.000030\n",
      "credit cards                               0.000029\n",
      "Personal                                   0.000027\n",
      "DEBT CONSOLIDATION                         0.000027\n",
      "Freedom                                    0.000026\n",
      "                                             ...   \n",
      "For consolidation dept                     0.000002\n",
      "CC REFI                                    0.000002\n",
      "Creditcardloan                             0.000002\n",
      "consolidate/one payment monthly            0.000002\n",
      "home repair                                0.000002\n",
      "Debt Consiladtion/Savings                  0.000002\n",
      "Debt Consoloan                             0.000002\n",
      "ByeBye                                     0.000002\n",
      "Relax                                      0.000002\n",
      "vwloan                                     0.000002\n",
      "Debt Refiance                              0.000002\n",
      "Medical bill                               0.000002\n",
      "CONSOLODATION                              0.000002\n",
      "Credit Card Debt Freedom                   0.000002\n",
      "Account one                                0.000002\n",
      "card refince                               0.000002\n",
      "Consolidation and auto repair              0.000002\n",
      "Home Remodeling                            0.000002\n",
      "Complete consolidation                     0.000002\n",
      "Home Improvement and loan consolidation    0.000002\n",
      "My Debt Program                            0.000002\n",
      "Consolidate medical/cc bills               0.000002\n",
      " Personal Loan                             0.000002\n",
      "home improvements/credit cards             0.000002\n",
      "Positive reaction                          0.000002\n",
      "Car Problems                               0.000002\n",
      "DEBT COND                                  0.000002\n",
      "Payoffdebts                                0.000002\n",
      "Short Term Goals                           0.000002\n",
      "just say no to BoA                         0.000002\n",
      "Name: title, Length: 2071, dtype: float64\n",
      "750xx    0.010583\n",
      "945xx    0.010482\n",
      "112xx    0.009977\n",
      "606xx    0.009468\n",
      "300xx    0.009275\n",
      "331xx    0.008165\n",
      "070xx    0.008070\n",
      "770xx    0.007836\n",
      "100xx    0.007812\n",
      "900xx    0.007621\n",
      "891xx    0.007215\n",
      "330xx    0.007058\n",
      "117xx    0.007001\n",
      "917xx    0.006837\n",
      "104xx    0.006738\n",
      "852xx    0.006153\n",
      "921xx    0.005993\n",
      "926xx    0.005739\n",
      "913xx    0.005622\n",
      "925xx    0.005454\n",
      "481xx    0.005432\n",
      "334xx    0.005293\n",
      "601xx    0.005285\n",
      "600xx    0.005244\n",
      "604xx    0.005234\n",
      "113xx    0.005097\n",
      "080xx    0.005033\n",
      "853xx    0.004879\n",
      "920xx    0.004766\n",
      "956xx    0.004762\n",
      "           ...   \n",
      "969xx    0.000002\n",
      "203xx    0.000002\n",
      "694xx    0.000002\n",
      "513xx    0.000002\n",
      "862xx    0.000002\n",
      "888xx    0.000002\n",
      "353xx    0.000002\n",
      "348xx    0.000002\n",
      "649xx    0.000002\n",
      "892xx    0.000002\n",
      "502xx    0.000002\n",
      "343xx    0.000002\n",
      "568xx    0.000002\n",
      "909xx    0.000002\n",
      "889xx    0.000002\n",
      "516xx    0.000002\n",
      "507xx    0.000002\n",
      "429xx    0.000002\n",
      "511xx    0.000002\n",
      "663xx    0.000002\n",
      "523xx    0.000002\n",
      "340xx    0.000002\n",
      "269xx    0.000002\n",
      "520xx    0.000002\n",
      "503xx    0.000002\n",
      "819xx    0.000002\n",
      "901xx    0.000002\n",
      "702xx    0.000002\n",
      "849xx    0.000002\n",
      "837xx    0.000002\n",
      "Name: zip_code, Length: 929, dtype: float64\n",
      "CA    0.139107\n",
      "NY    0.081872\n",
      "TX    0.081718\n",
      "FL    0.068505\n",
      "IL    0.040340\n",
      "NJ    0.036633\n",
      "PA    0.035625\n",
      "OH    0.034116\n",
      "GA    0.033060\n",
      "VA    0.028928\n",
      "NC    0.028140\n",
      "MI    0.026862\n",
      "MD    0.023786\n",
      "AZ    0.023156\n",
      "MA    0.022465\n",
      "WA    0.021371\n",
      "CO    0.021313\n",
      "MN    0.018387\n",
      "IN    0.017465\n",
      "TN    0.016460\n",
      "MO    0.015969\n",
      "CT    0.014938\n",
      "NV    0.013931\n",
      "WI    0.013345\n",
      "AL    0.012762\n",
      "SC    0.012223\n",
      "LA    0.011967\n",
      "OR    0.011962\n",
      "KY    0.009884\n",
      "OK    0.009267\n",
      "KS    0.008891\n",
      "AR    0.007550\n",
      "UT    0.006860\n",
      "MS    0.005771\n",
      "NM    0.005661\n",
      "WV    0.005002\n",
      "HI    0.004993\n",
      "NH    0.004899\n",
      "RI    0.004395\n",
      "DE    0.002893\n",
      "MT    0.002882\n",
      "DC    0.002502\n",
      "AK    0.002363\n",
      "WY    0.002258\n",
      "VT    0.002184\n",
      "SD    0.002042\n",
      "NE    0.001769\n",
      "ME    0.000795\n",
      "ND    0.000729\n",
      "IA    0.000002\n",
      "ID    0.000002\n",
      "Name: addr_state, dtype: float64\n",
      "Aug-01    0.007894\n",
      "Aug-02    0.007531\n",
      "Aug-00    0.007426\n",
      "Sep-02    0.006913\n",
      "Sep-03    0.006771\n",
      "Oct-01    0.006698\n",
      "Sep-00    0.006671\n",
      "Oct-00    0.006557\n",
      "Aug-03    0.006467\n",
      "Sep-01    0.006363\n",
      "Aug-99    0.006347\n",
      "Oct-02    0.006304\n",
      "Sep-99    0.006243\n",
      "Sep-04    0.006220\n",
      "Nov-99    0.006213\n",
      "Nov-00    0.006126\n",
      "Oct-99    0.006031\n",
      "Jul-01    0.006019\n",
      "Oct-03    0.005983\n",
      "Mar-01    0.005890\n",
      "Nov-01    0.005887\n",
      "Sep-98    0.005884\n",
      "Aug-04    0.005852\n",
      "Jul-02    0.005783\n",
      "Jul-03    0.005770\n",
      "May-01    0.005530\n",
      "Mar-00    0.005441\n",
      "May-03    0.005441\n",
      "Jun-01    0.005433\n",
      "Dec-01    0.005386\n",
      "            ...   \n",
      "Jan-48    0.000002\n",
      "Mar-59    0.000002\n",
      "Aug-55    0.000002\n",
      "May-61    0.000002\n",
      "Sep-56    0.000002\n",
      "Jun-55    0.000002\n",
      "Nov-58    0.000002\n",
      "Mar-55    0.000002\n",
      "May-50    0.000002\n",
      "Feb-63    0.000002\n",
      "Nov-59    0.000002\n",
      "Nov-61    0.000002\n",
      "Oct-50    0.000002\n",
      "May-57    0.000002\n",
      "Sep-53    0.000002\n",
      "Aug-46    0.000002\n",
      "Apr-58    0.000002\n",
      "Aug-58    0.000002\n",
      "Sep-57    0.000002\n",
      "Aug-51    0.000002\n",
      "Apr-55    0.000002\n",
      "May-58    0.000002\n",
      "Mar-58    0.000002\n",
      "Nov-57    0.000002\n",
      "Jun-59    0.000002\n",
      "Sep-60    0.000002\n",
      "Oct-60    0.000002\n",
      "Nov-54    0.000002\n",
      "Dec-59    0.000002\n",
      "Jul-61    0.000002\n",
      "Name: earliest_cr_line, Length: 684, dtype: float64\n",
      "0%         0.002812\n",
      "59%        0.002194\n",
      "58%        0.002180\n",
      "53%        0.002175\n",
      "52%        0.002131\n",
      "55%        0.002119\n",
      "61%        0.002119\n",
      "62%        0.002095\n",
      "57%        0.002090\n",
      "50%        0.002084\n",
      "48%        0.002075\n",
      "54%        0.002064\n",
      "47%        0.002055\n",
      "51%        0.002028\n",
      "60%        0.002020\n",
      "63%        0.002012\n",
      "44%        0.001996\n",
      "64%        0.001982\n",
      "46%        0.001979\n",
      "66%        0.001967\n",
      "49%        0.001965\n",
      "56%        0.001965\n",
      "65%        0.001958\n",
      "68%        0.001948\n",
      "67%        0.001901\n",
      "43%        0.001886\n",
      "45%        0.001863\n",
      "69%        0.001859\n",
      "42%        0.001857\n",
      "70%        0.001855\n",
      "             ...   \n",
      "182.80%    0.000002\n",
      "117.40%    0.000002\n",
      "118.60%    0.000002\n",
      "119.60%    0.000002\n",
      "137.20%    0.000002\n",
      "177.70%    0.000002\n",
      "115%       0.000002\n",
      "161.50%    0.000002\n",
      "128.40%    0.000002\n",
      "116.50%    0.000002\n",
      "113.60%    0.000002\n",
      "115.60%    0.000002\n",
      "118.20%    0.000002\n",
      "128.80%    0.000002\n",
      "131.80%    0.000002\n",
      "124.70%    0.000002\n",
      "115.30%    0.000002\n",
      "130.20%    0.000002\n",
      "131%       0.000002\n",
      "115.80%    0.000002\n",
      "108.90%    0.000002\n",
      "111.90%    0.000002\n",
      "114.60%    0.000002\n",
      "130.80%    0.000002\n",
      "116.80%    0.000002\n",
      "122.70%    0.000002\n",
      "121.20%    0.000002\n",
      "125.60%    0.000002\n",
      "145.80%    0.000002\n",
      "129.50%    0.000002\n",
      "Name: revol_util, Length: 1255, dtype: float64\n",
      "w    0.594961\n",
      "f    0.405039\n",
      "Name: initial_list_status, dtype: float64\n",
      "Jun-18    0.225200\n",
      "Mar-17    0.030479\n",
      "Aug-17    0.024797\n",
      "May-17    0.024663\n",
      "Jul-17    0.024646\n",
      "Jun-17    0.024433\n",
      "Oct-17    0.023881\n",
      "Feb-17    0.023601\n",
      "Jan-17    0.023511\n",
      "Apr-17    0.023485\n",
      "Mar-18    0.023371\n",
      "May-18    0.022301\n",
      "Nov-17    0.022237\n",
      "Jan-18    0.021894\n",
      "Mar-16    0.021666\n",
      "Jul-16    0.020744\n",
      "Feb-18    0.020445\n",
      "Aug-16    0.020246\n",
      "Oct-16    0.020195\n",
      "Sep-16    0.019833\n",
      "Dec-16    0.019444\n",
      "Jun-16    0.019399\n",
      "Apr-18    0.019348\n",
      "Nov-16    0.019260\n",
      "Sep-17    0.018775\n",
      "May-16    0.017837\n",
      "Feb-16    0.017695\n",
      "Apr-16    0.017497\n",
      "Dec-17    0.016496\n",
      "Jan-16    0.016490\n",
      "Dec-15    0.016404\n",
      "Oct-15    0.015530\n",
      "Nov-15    0.013761\n",
      "Jul-15    0.013192\n",
      "Sep-15    0.013162\n",
      "Aug-15    0.012213\n",
      "Jun-15    0.010556\n",
      "May-15    0.009729\n",
      "Apr-15    0.009135\n",
      "Mar-15    0.008361\n",
      "Feb-15    0.006077\n",
      "Jan-15    0.005534\n",
      "Dec-14    0.004321\n",
      "Oct-14    0.003701\n",
      "Nov-14    0.003614\n",
      "Sep-14    0.002827\n",
      "Aug-14    0.002461\n",
      "Jul-14    0.001943\n",
      "Jun-14    0.001452\n",
      "May-14    0.000901\n",
      "Apr-14    0.000637\n",
      "Mar-14    0.000413\n",
      "Feb-14    0.000207\n",
      "Name: last_pymnt_d, dtype: float64\n",
      "Jun-18    0.509533\n",
      "Oct-16    0.043020\n",
      "May-18    0.041134\n",
      "Apr-18    0.034459\n",
      "Mar-18    0.030850\n",
      "Feb-17    0.028502\n",
      "Jan-18    0.025134\n",
      "Feb-18    0.025062\n",
      "Oct-17    0.023789\n",
      "Nov-17    0.020559\n",
      "Dec-17    0.018333\n",
      "Aug-17    0.018013\n",
      "Sep-17    0.017999\n",
      "Jun-17    0.017016\n",
      "Jul-17    0.015427\n",
      "Mar-17    0.014951\n",
      "Apr-17    0.013528\n",
      "Jan-17    0.012455\n",
      "May-17    0.011835\n",
      "Dec-16    0.009461\n",
      "Nov-16    0.007739\n",
      "Apr-16    0.004836\n",
      "Aug-16    0.004684\n",
      "Jul-16    0.004658\n",
      "Mar-16    0.004450\n",
      "Feb-16    0.004191\n",
      "Jun-16    0.003872\n",
      "May-16    0.003521\n",
      "Jan-16    0.003128\n",
      "Dec-15    0.003029\n",
      "Oct-15    0.002545\n",
      "Sep-15    0.002490\n",
      "Nov-15    0.002471\n",
      "Sep-16    0.001999\n",
      "Jul-15    0.001980\n",
      "Aug-15    0.001946\n",
      "Jun-15    0.001739\n",
      "Apr-15    0.001434\n",
      "May-15    0.001328\n",
      "Mar-15    0.001302\n",
      "Jan-15    0.000999\n",
      "Feb-15    0.000999\n",
      "Dec-14    0.000640\n",
      "Nov-14    0.000566\n",
      "Oct-14    0.000541\n",
      "Sep-14    0.000443\n",
      "Aug-14    0.000387\n",
      "Jul-14    0.000350\n",
      "Jun-14    0.000222\n",
      "May-14    0.000174\n",
      "Apr-14    0.000123\n",
      "Mar-14    0.000105\n",
      "Feb-14    0.000044\n",
      "Jan-14    0.000003\n",
      "Name: last_credit_pull_d, dtype: float64\n",
      "Individual    0.999222\n",
      "Joint App     0.000778\n",
      "Name: application_type, dtype: float64\n",
      "N    0.999826\n",
      "Y    0.000174\n",
      "Name: hardship_flag, dtype: float64\n",
      "Cash    1.0\n",
      "Name: disbursement_method, dtype: float64\n",
      "N    0.98092\n",
      "Y    0.01908\n",
      "Name: debt_settlement_flag, dtype: float64\n"
     ]
    }
   ],
   "source": [
    "for cat in cat_features:\n",
    "    print(fulldata[cat].value_counts(normalize=True))"
   ]
  },
  {
   "cell_type": "markdown",
   "metadata": {},
   "source": [
    "* Transfer catagorical features to numerical."
   ]
  },
  {
   "cell_type": "code",
   "execution_count": 16,
   "metadata": {
    "collapsed": true
   },
   "outputs": [],
   "source": [
    "fulldata['term'] = fulldata['term'].apply(lambda x: int(str(x).split(' ')[1]))\n",
    "fulldata['int_rate'] = fulldata['int_rate'].apply(lambda x: float(str(x).split('%')[0]))\n",
    "fulldata['revol_util'] = fulldata['revol_util'].apply(lambda x: float(str(x).split('%')[0]))\n",
    "fulldata['emp_title'] = fulldata['emp_title'].apply(lambda x: str(x).lower())\n",
    "fulldata['emp_length'] = fulldata['emp_length'].replace({'10+ years': 10, '2 years':2, '< 1 year':0, '3 years':3, '1 year':1, '4 years':4,\n",
    "                               '5 years':5, 'n/a':-999, '8 years':8, '7 years':7, '6 years':6, '9 years':9})"
   ]
  },
  {
   "cell_type": "markdown",
   "metadata": {},
   "source": [
    "* Transfer datetime features to numerical."
   ]
  },
  {
   "cell_type": "code",
   "execution_count": 17,
   "metadata": {
    "collapsed": true
   },
   "outputs": [],
   "source": [
    "# Transfer dates value to months' difference btw datetime and current time\n",
    "today = datetime.datetime.now() \n",
    "\n",
    "def transfer_datetime(dt):\n",
    "    try:\n",
    "        months = round((today - datetime.datetime.strptime(str(dt), \"%b-%y\")).days/30, 2)\n",
    "    except:\n",
    "        months = 0\n",
    "    return months"
   ]
  },
  {
   "cell_type": "code",
   "execution_count": 18,
   "metadata": {
    "collapsed": true
   },
   "outputs": [],
   "source": [
    "fulldata['issue_d'] = fulldata['issue_d'].apply(lambda x : transfer_datetime(x))\n",
    "fulldata['earliest_cr_line'] = fulldata['earliest_cr_line'].apply(lambda x : transfer_datetime(x))\n",
    "fulldata['last_pymnt_d'] = fulldata['last_pymnt_d'].apply(lambda x : transfer_datetime(x))\n",
    "fulldata['last_credit_pull_d'] = fulldata['last_credit_pull_d'].apply(lambda x : transfer_datetime(x))\n",
    "fulldata['zip_code'] = fulldata['zip_code'].apply(lambda x: str(str(x).split('x')[0]))"
   ]
  },
  {
   "cell_type": "markdown",
   "metadata": {},
   "source": [
    "* Check extremely unbalanced features\n",
    "\n",
    "** debt_settlement_flag:**  Flags whether or not the borrower, who has charged-off, is working with a debt-settlement company.\n",
    "\n",
    "From the countplot of loan_status, there are no people who is both working for a debt-settlement and not been charged off, which means people working with debt-settlement company is 100% charged off.\n",
    "\n",
    "In that case, although y only take 0.01908 of total data, it is valuable to keep it."
   ]
  },
  {
   "cell_type": "code",
   "execution_count": 19,
   "metadata": {
    "collapsed": false
   },
   "outputs": [
    {
     "data": {
      "text/plain": [
       "<matplotlib.legend.Legend at 0x1259abc50>"
      ]
     },
     "execution_count": 19,
     "metadata": {},
     "output_type": "execute_result"
    },
    {
     "data": {
      "image/png": "[encoded data removed]",
      "text/plain": [
       "<matplotlib.figure.Figure at 0x1207ee128>"
      ]
     },
     "metadata": {},
     "output_type": "display_data"
    }
   ],
   "source": [
    "dsf = sns.countplot(x = 'debt_settlement_flag',hue = 'loan_status', data = fulldata)\n",
    "dsf.legend_.remove()\n",
    "dsf.legend(loc = 1)"
   ]
  },
  {
   "cell_type": "markdown",
   "metadata": {},
   "source": [
    "**disbursement_method: **\n",
    "Only have one value - cash. No need to exist."
   ]
  },
  {
   "cell_type": "code",
   "execution_count": 20,
   "metadata": {
    "collapsed": true
   },
   "outputs": [],
   "source": [
    "fulldata.drop(['disbursement_method'],axis = 1, inplace = True)"
   ]
  },
  {
   "cell_type": "markdown",
   "metadata": {},
   "source": [
    "**hardship_flag: **Flags whether or not the borrower is on a hardship plan\n",
    "\n",
    "The hardship_flag is not a flag to charged off. We only need information to predict fully paid or charged off and will drop data in other loan status. Hence, the hardship_flag, which is related to late-payment can be droped here."
   ]
  },
  {
   "cell_type": "code",
   "execution_count": 21,
   "metadata": {
    "collapsed": false,
    "scrolled": true
   },
   "outputs": [
    {
     "data": {
      "text/plain": [
       "<matplotlib.legend.Legend at 0x1259ab8d0>"
      ]
     },
     "execution_count": 21,
     "metadata": {},
     "output_type": "execute_result"
    },
    {
     "data": {
      "image/png": "[encoded data removed]",
      "text/plain": [
       "<matplotlib.figure.Figure at 0x12eeabb38>"
      ]
     },
     "metadata": {},
     "output_type": "display_data"
    }
   ],
   "source": [
    "hf = sns.countplot(x = 'hardship_flag',hue = 'loan_status', data = fulldata)\n",
    "hf.legend_.remove()\n",
    "hf.legend(loc = 1)"
   ]
  },
  {
   "cell_type": "code",
   "execution_count": 22,
   "metadata": {
    "collapsed": false,
    "scrolled": false
   },
   "outputs": [
    {
     "data": {
      "text/plain": [
       "Late (31-120 days)    0.824561\n",
       "Late (16-30 days)     0.131579\n",
       "In Grace Period       0.026316\n",
       "Current               0.017544\n",
       "Name: loan_status, dtype: float64"
      ]
     },
     "execution_count": 22,
     "metadata": {},
     "output_type": "execute_result"
    }
   ],
   "source": [
    "fulldata[fulldata['hardship_flag'] == 'Y']['loan_status'].value_counts(normalize = True)"
   ]
  },
  {
   "cell_type": "code",
   "execution_count": 23,
   "metadata": {
    "collapsed": true
   },
   "outputs": [],
   "source": [
    "fulldata.drop(['hardship_flag'],axis = 1, inplace = True)"
   ]
  },
  {
   "cell_type": "markdown",
   "metadata": {},
   "source": [
    "\n",
    "**application_type:** Indicates whether the loan is an individual application or a joint application with two co-borrowers.\n",
    "\n",
    "Appliants' type would not effect the results dramaticlly, and number of Joint App is too small compare the individuals so we can drop the feature."
   ]
  },
  {
   "cell_type": "code",
   "execution_count": 24,
   "metadata": {
    "collapsed": false,
    "scrolled": true
   },
   "outputs": [
    {
     "data": {
      "text/plain": [
       "<matplotlib.legend.Legend at 0x1259ab668>"
      ]
     },
     "execution_count": 24,
     "metadata": {},
     "output_type": "execute_result"
    },
    {
     "data": {
      "image/png": "[encoded data removed]",
      "text/plain": [
       "<matplotlib.figure.Figure at 0x12d5b54e0>"
      ]
     },
     "metadata": {},
     "output_type": "display_data"
    }
   ],
   "source": [
    "at = sns.countplot(x = 'application_type',hue = 'loan_status', data = fulldata)\n",
    "at.legend_.remove()\n",
    "at.legend(loc = 1)"
   ]
  },
  {
   "cell_type": "code",
   "execution_count": 25,
   "metadata": {
    "collapsed": false
   },
   "outputs": [
    {
     "data": {
      "text/plain": [
       "Current               0.430528\n",
       "Fully Paid            0.377691\n",
       "Charged Off           0.166341\n",
       "In Grace Period       0.015656\n",
       "Late (31-120 days)    0.007828\n",
       "Late (16-30 days)     0.001957\n",
       "Name: loan_status, dtype: float64"
      ]
     },
     "execution_count": 25,
     "metadata": {},
     "output_type": "execute_result"
    }
   ],
   "source": [
    "fulldata[fulldata['application_type'] == 'Joint App']['loan_status'].value_counts(normalize = True)"
   ]
  },
  {
   "cell_type": "code",
   "execution_count": 26,
   "metadata": {
    "collapsed": false
   },
   "outputs": [
    {
     "data": {
      "text/plain": [
       "Fully Paid            0.616326\n",
       "Current               0.206579\n",
       "Charged Off           0.164678\n",
       "Late (31-120 days)    0.006097\n",
       "In Grace Period       0.004855\n",
       "Late (16-30 days)     0.001452\n",
       "Default               0.000012\n",
       "Name: loan_status, dtype: float64"
      ]
     },
     "execution_count": 26,
     "metadata": {},
     "output_type": "execute_result"
    }
   ],
   "source": [
    "fulldata[fulldata['application_type'] == 'Individual']['loan_status'].value_counts(normalize = True)"
   ]
  },
  {
   "cell_type": "code",
   "execution_count": 27,
   "metadata": {
    "collapsed": true
   },
   "outputs": [],
   "source": [
    "fulldata.drop(['application_type'],axis = 1, inplace = True)"
   ]
  },
  {
   "cell_type": "markdown",
   "metadata": {},
   "source": [
    "**title: **The loan title provided by the borrower.\n",
    "\n",
    "**purpose: ** A category provided by the borrower for the loan request. \n",
    "\n",
    "Title contains very similar contents to purpose. Drop it here."
   ]
  },
  {
   "cell_type": "code",
   "execution_count": 28,
   "metadata": {
    "collapsed": true
   },
   "outputs": [],
   "source": [
    "fulldata.drop(['title'],axis = 1, inplace = True)"
   ]
  },
  {
   "cell_type": "markdown",
   "metadata": {},
   "source": [
    "**pymnt_plan: ** Indicates if a payment plan has been put in place for the loan\n",
    "\n",
    "Through the distribution, we notices that the payment plan is not an indicator whether the applicant will fully pay the debt or charge off. So, drop it."
   ]
  },
  {
   "cell_type": "code",
   "execution_count": 29,
   "metadata": {
    "collapsed": false
   },
   "outputs": [
    {
     "data": {
      "text/plain": [
       "<matplotlib.legend.Legend at 0x1281ddd30>"
      ]
     },
     "execution_count": 29,
     "metadata": {},
     "output_type": "execute_result"
    },
    {
     "data": {
      "image/png": "[encoded data removed]",
      "text/plain": [
       "<matplotlib.figure.Figure at 0x12ef11198>"
      ]
     },
     "metadata": {},
     "output_type": "display_data"
    }
   ],
   "source": [
    "ppn = sns.countplot(x = 'pymnt_plan',hue = 'loan_status', data = fulldata)\n",
    "ppn.legend_.remove()\n",
    "ppn.legend(loc = 1)"
   ]
  },
  {
   "cell_type": "code",
   "execution_count": 30,
   "metadata": {
    "collapsed": false
   },
   "outputs": [
    {
     "data": {
      "text/plain": [
       "Late (31-120 days)    0.953488\n",
       "Late (16-30 days)     0.023256\n",
       "Current               0.023256\n",
       "Name: loan_status, dtype: float64"
      ]
     },
     "execution_count": 30,
     "metadata": {},
     "output_type": "execute_result"
    }
   ],
   "source": [
    "fulldata[fulldata['pymnt_plan'] == 'y']['loan_status'].value_counts(normalize = True)"
   ]
  },
  {
   "cell_type": "code",
   "execution_count": 31,
   "metadata": {
    "collapsed": true
   },
   "outputs": [],
   "source": [
    "fulldata.drop(['pymnt_plan'], axis = 1, inplace = True)"
   ]
  },
  {
   "cell_type": "markdown",
   "metadata": {},
   "source": [
    "**home_ownership:**Whether the appliants own a house, have a morgate or rent one.\n",
    "\n",
    "Any is too small to impact the model, catagorize it to rent."
   ]
  },
  {
   "cell_type": "code",
   "execution_count": 32,
   "metadata": {
    "collapsed": false,
    "scrolled": true
   },
   "outputs": [
    {
     "data": {
      "text/plain": [
       "<matplotlib.legend.Legend at 0x12a882a20>"
      ]
     },
     "execution_count": 32,
     "metadata": {},
     "output_type": "execute_result"
    },
    {
     "data": {
      "image/png": "[encoded data removed]",
      "text/plain": [
       "<matplotlib.figure.Figure at 0x1281c8748>"
      ]
     },
     "metadata": {},
     "output_type": "display_data"
    }
   ],
   "source": [
    "ho = sns.countplot(x = 'home_ownership',hue = 'loan_status', data = fulldata)\n",
    "ho.legend_.remove()\n",
    "ho.legend(loc = 1)"
   ]
  },
  {
   "cell_type": "code",
   "execution_count": 33,
   "metadata": {
    "collapsed": false
   },
   "outputs": [
    {
     "data": {
      "text/plain": [
       "MORTGAGE    327620\n",
       "RENT        260328\n",
       "OWN          68773\n",
       "ANY              3\n",
       "Name: home_ownership, dtype: int64"
      ]
     },
     "execution_count": 33,
     "metadata": {},
     "output_type": "execute_result"
    }
   ],
   "source": [
    "fulldata['home_ownership'].value_counts()"
   ]
  },
  {
   "cell_type": "code",
   "execution_count": 34,
   "metadata": {
    "collapsed": true
   },
   "outputs": [],
   "source": [
    "fulldata['home_ownership'] = fulldata['home_ownership'].replace({'ANY':'RENT'})"
   ]
  },
  {
   "cell_type": "code",
   "execution_count": 35,
   "metadata": {
    "collapsed": true
   },
   "outputs": [],
   "source": [
    "# Re-initiate the catagorical and numerical features\n",
    "cat_features = list(fulldata.select_dtypes(include=['object']).columns)\n",
    "num_features = list(fulldata.select_dtypes(exclude=['object']).columns)"
   ]
  },
  {
   "cell_type": "markdown",
   "metadata": {},
   "source": [
    "#### Numerical"
   ]
  },
  {
   "cell_type": "code",
   "execution_count": 36,
   "metadata": {
    "collapsed": true
   },
   "outputs": [],
   "source": [
    "# Calculates pearson co-efficient for all combinations for numerical features.\n",
    "def HighCorrCol_detect(df, threshold, length):\n",
    "\n",
    "    data_corr = df.corr().abs()\n",
    "\n",
    "    # List of pairs along with correlation above threshold\n",
    "    corr_list = []\n",
    "\n",
    "    #Search for the highly correlated pairs in given features\n",
    "    for i in range(0,length): \n",
    "        for j in range(i+1,length): #avoid repetition\n",
    "            if (data_corr.iloc[i,j] >= threshold and data_corr.iloc[i,j] < 1):\n",
    "#                 store correlation and columns index\n",
    "                corr_list.append([data_corr.iloc[i,j],i,j]) \n",
    "\n",
    "    #Sort to show higher ones first            \n",
    "    s_corr_list = sorted(corr_list,key=lambda x:x[0], reverse = True)\n",
    "\n",
    "    #Print correlations and column names\n",
    "    for v,i,j in s_corr_list:\n",
    "        print (\"%s and %s = %.2f\" % (df.columns[i],df.columns[j],v))"
   ]
  },
  {
   "cell_type": "code",
   "execution_count": 37,
   "metadata": {
    "collapsed": false
   },
   "outputs": [
    {
     "name": "stdout",
     "output_type": "stream",
     "text": [
      "out_prncp and out_prncp_inv = 1.00\n",
      "total_pymnt and total_pymnt_inv = 1.00\n",
      "loan_amnt and funded_amnt_inv = 1.00\n",
      "funded_amnt and funded_amnt_inv = 1.00\n",
      "open_acc and num_sats = 1.00\n",
      "num_actv_rev_tl and num_rev_tl_bal_gt_0 = 0.98\n",
      "recoveries and collection_recovery_fee = 0.98\n",
      "tot_cur_bal and tot_hi_cred_lim = 0.98\n",
      "total_pymnt_inv and total_rec_prncp = 0.95\n",
      "total_pymnt and total_rec_prncp = 0.95\n",
      "loan_amnt and installment = 0.94\n",
      "funded_amnt and installment = 0.94\n",
      "funded_amnt_inv and installment = 0.94\n"
     ]
    }
   ],
   "source": [
    "HighCorrCol_detect(fulldata[num_features], 0.9, len(fulldata[num_features].columns))"
   ]
  },
  {
   "cell_type": "code",
   "execution_count": 38,
   "metadata": {
    "collapsed": true
   },
   "outputs": [],
   "source": [
    "corr = fulldata[num_features].corr()"
   ]
  },
  {
   "cell_type": "code",
   "execution_count": 39,
   "metadata": {
    "collapsed": false
   },
   "outputs": [
    {
     "data": {
      "text/plain": [
       "<matplotlib.axes._subplots.AxesSubplot at 0x129e76630>"
      ]
     },
     "execution_count": 39,
     "metadata": {},
     "output_type": "execute_result"
    },
    {
     "data": {
      "image/png": "[encoded data removed]",
      "text/plain": [
       "<matplotlib.figure.Figure at 0x129e6eeb8>"
      ]
     },
     "metadata": {},
     "output_type": "display_data"
    }
   ],
   "source": [
    "# Check\n",
    "fig, ax = plt.subplots(figsize=(25,23))\n",
    "sns.heatmap(corr, \n",
    "            xticklabels=corr.columns.values,\n",
    "            yticklabels=corr.columns.values,linewidths=0.5, ax=ax)"
   ]
  },
  {
   "cell_type": "code",
   "execution_count": 40,
   "metadata": {
    "collapsed": true
   },
   "outputs": [],
   "source": [
    "# Drop the high related features\n",
    "def HighCorrCol_drop(df, threshold):\n",
    "    corr_matrix = df.corr().abs()\n",
    "    upper = corr_matrix.where(np.triu(np.ones(corr_matrix.shape), k=1).astype(np.bool))\n",
    "#   return a list of drop col\n",
    "    return [column for column in upper.columns if any(upper[column] > threshold)]"
   ]
  },
  {
   "cell_type": "code",
   "execution_count": 41,
   "metadata": {
    "collapsed": false
   },
   "outputs": [
    {
     "data": {
      "text/plain": [
       "['funded_amnt',\n",
       " 'funded_amnt_inv',\n",
       " 'installment',\n",
       " 'out_prncp_inv',\n",
       " 'total_pymnt_inv',\n",
       " 'total_rec_prncp',\n",
       " 'collection_recovery_fee',\n",
       " 'num_rev_tl_bal_gt_0',\n",
       " 'num_sats',\n",
       " 'tot_hi_cred_lim']"
      ]
     },
     "execution_count": 41,
     "metadata": {},
     "output_type": "execute_result"
    }
   ],
   "source": [
    "# drop high correlated numerical features\n",
    "dropcol = HighCorrCol_drop(fulldata[num_features], 0.9)\n",
    "dropcol"
   ]
  },
  {
   "cell_type": "code",
   "execution_count": 42,
   "metadata": {
    "collapsed": true
   },
   "outputs": [],
   "source": [
    "# Drop the features with correlation > 0.9\n",
    "fulldata.drop(dropcol,axis = 1, inplace = True)"
   ]
  },
  {
   "cell_type": "code",
   "execution_count": 43,
   "metadata": {
    "collapsed": true
   },
   "outputs": [],
   "source": [
    "num_features = [a for a in num_features if a not in dropcol]"
   ]
  },
  {
   "cell_type": "code",
   "execution_count": 44,
   "metadata": {
    "collapsed": true
   },
   "outputs": [],
   "source": [
    "# Fill the nan in data\n",
    "missing_value_minor = ['bc_open_to_buy', 'bc_util', 'mths_since_recent_bc',\n",
    "                       'percent_bc_gt_75', 'mo_sin_old_il_acct', 'num_tl_120dpd_2m',\n",
    "       'mths_since_recent_inq','avg_cur_bal','revol_util','num_rev_accts','dti']\n",
    "\n",
    "# Fill nan with median, since the missing value is small, if there are a lot. We need to check if value has skewness or other properties.\n",
    "for x in missing_value_minor:\n",
    "    fulldata[x].fillna(value = fulldata[x].median(),inplace=True)"
   ]
  },
  {
   "cell_type": "markdown",
   "metadata": {},
   "source": [
    "Before processing EDA, we select the needed data. \n",
    "\n",
    "Use 36 months as the term;\n",
    "\n",
    "Fully paid(1), charged off(0) and default(0) as the label"
   ]
  },
  {
   "cell_type": "code",
   "execution_count": 45,
   "metadata": {
    "collapsed": true
   },
   "outputs": [],
   "source": [
    "fulldata36 = fulldata[fulldata['term'] == 36]\n",
    "fulldata36 = fulldata36[(fulldata36['loan_status'] == 'Fully Paid' )| (fulldata36['loan_status'] == 'Charged Off')| (fulldata36['loan_status'] == 'Default')]\n",
    "fulldata36['loan_status'] = fulldata36['loan_status'].replace({'Fully Paid': 0, 'Charged Off':1, 'Default':1})\n",
    "fulldata36.drop('term',axis = 1, inplace = True)"
   ]
  },
  {
   "cell_type": "code",
   "execution_count": 46,
   "metadata": {
    "collapsed": false
   },
   "outputs": [
    {
     "data": {
      "text/plain": [
       "(384437, 71)"
      ]
     },
     "execution_count": 46,
     "metadata": {},
     "output_type": "execute_result"
    }
   ],
   "source": [
    "fulldata36.shape"
   ]
  },
  {
   "cell_type": "markdown",
   "metadata": {
    "collapsed": true
   },
   "source": [
    "## Exploratory Data Analysis"
   ]
  },
  {
   "cell_type": "code",
   "execution_count": 47,
   "metadata": {
    "collapsed": false
   },
   "outputs": [
    {
     "data": {
      "text/html": [
       "<div>\n",
       "<style>\n",
       "    .dataframe thead tr:only-child th {\n",
       "        text-align: right;\n",
       "    }\n",
       "\n",
       "    .dataframe thead th {\n",
       "        text-align: left;\n",
       "    }\n",
       "\n",
       "    .dataframe tbody tr th {\n",
       "        vertical-align: top;\n",
       "    }\n",
       "</style>\n",
       "<table border=\"1\" class=\"dataframe\">\n",
       "  <thead>\n",
       "    <tr style=\"text-align: right;\">\n",
       "      <th></th>\n",
       "      <th>loan_amnt</th>\n",
       "      <th>int_rate</th>\n",
       "      <th>emp_length</th>\n",
       "      <th>annual_inc</th>\n",
       "      <th>issue_d</th>\n",
       "      <th>loan_status</th>\n",
       "      <th>dti</th>\n",
       "      <th>delinq_2yrs</th>\n",
       "      <th>earliest_cr_line</th>\n",
       "      <th>inq_last_6mths</th>\n",
       "      <th>...</th>\n",
       "      <th>num_tl_30dpd</th>\n",
       "      <th>num_tl_90g_dpd_24m</th>\n",
       "      <th>num_tl_op_past_12m</th>\n",
       "      <th>pct_tl_nvr_dlq</th>\n",
       "      <th>percent_bc_gt_75</th>\n",
       "      <th>pub_rec_bankruptcies</th>\n",
       "      <th>tax_liens</th>\n",
       "      <th>total_bal_ex_mort</th>\n",
       "      <th>total_bc_limit</th>\n",
       "      <th>total_il_high_credit_limit</th>\n",
       "    </tr>\n",
       "  </thead>\n",
       "  <tbody>\n",
       "    <tr>\n",
       "      <th>count</th>\n",
       "      <td>384437.000000</td>\n",
       "      <td>384437.000000</td>\n",
       "      <td>384437.000000</td>\n",
       "      <td>3.844370e+05</td>\n",
       "      <td>384437.000000</td>\n",
       "      <td>384437.000000</td>\n",
       "      <td>384437.000000</td>\n",
       "      <td>384437.000000</td>\n",
       "      <td>384437.000000</td>\n",
       "      <td>384437.000000</td>\n",
       "      <td>...</td>\n",
       "      <td>384437.000000</td>\n",
       "      <td>384437.000000</td>\n",
       "      <td>384437.000000</td>\n",
       "      <td>384437.000000</td>\n",
       "      <td>384437.000000</td>\n",
       "      <td>384437.000000</td>\n",
       "      <td>384437.000000</td>\n",
       "      <td>3.844370e+05</td>\n",
       "      <td>384437.000000</td>\n",
       "      <td>3.844370e+05</td>\n",
       "    </tr>\n",
       "    <tr>\n",
       "      <th>mean</th>\n",
       "      <td>12702.581372</td>\n",
       "      <td>11.871044</td>\n",
       "      <td>-56.450121</td>\n",
       "      <td>7.349827e+04</td>\n",
       "      <td>44.341278</td>\n",
       "      <td>0.160448</td>\n",
       "      <td>18.048795</td>\n",
       "      <td>0.347760</td>\n",
       "      <td>240.562811</td>\n",
       "      <td>0.665409</td>\n",
       "      <td>...</td>\n",
       "      <td>0.003751</td>\n",
       "      <td>0.099996</td>\n",
       "      <td>2.145106</td>\n",
       "      <td>93.803849</td>\n",
       "      <td>46.911021</td>\n",
       "      <td>0.147967</td>\n",
       "      <td>0.062999</td>\n",
       "      <td>4.697164e+04</td>\n",
       "      <td>19964.411555</td>\n",
       "      <td>3.940681e+04</td>\n",
       "    </tr>\n",
       "    <tr>\n",
       "      <th>std</th>\n",
       "      <td>7949.029793</td>\n",
       "      <td>3.822466</td>\n",
       "      <td>242.427355</td>\n",
       "      <td>6.829160e+04</td>\n",
       "      <td>6.694991</td>\n",
       "      <td>0.367021</td>\n",
       "      <td>8.378578</td>\n",
       "      <td>0.927284</td>\n",
       "      <td>100.686800</td>\n",
       "      <td>0.955166</td>\n",
       "      <td>...</td>\n",
       "      <td>0.065485</td>\n",
       "      <td>0.533980</td>\n",
       "      <td>1.777984</td>\n",
       "      <td>8.946431</td>\n",
       "      <td>35.609497</td>\n",
       "      <td>0.399842</td>\n",
       "      <td>0.455255</td>\n",
       "      <td>4.672218e+04</td>\n",
       "      <td>20964.715769</td>\n",
       "      <td>4.188653e+04</td>\n",
       "    </tr>\n",
       "    <tr>\n",
       "      <th>min</th>\n",
       "      <td>1000.000000</td>\n",
       "      <td>5.320000</td>\n",
       "      <td>-999.000000</td>\n",
       "      <td>0.000000e+00</td>\n",
       "      <td>33.570000</td>\n",
       "      <td>0.000000</td>\n",
       "      <td>0.000000</td>\n",
       "      <td>0.000000</td>\n",
       "      <td>-611.730000</td>\n",
       "      <td>0.000000</td>\n",
       "      <td>...</td>\n",
       "      <td>0.000000</td>\n",
       "      <td>0.000000</td>\n",
       "      <td>0.000000</td>\n",
       "      <td>7.700000</td>\n",
       "      <td>0.000000</td>\n",
       "      <td>0.000000</td>\n",
       "      <td>0.000000</td>\n",
       "      <td>0.000000e+00</td>\n",
       "      <td>0.000000</td>\n",
       "      <td>0.000000e+00</td>\n",
       "    </tr>\n",
       "    <tr>\n",
       "      <th>25%</th>\n",
       "      <td>6875.000000</td>\n",
       "      <td>8.390000</td>\n",
       "      <td>2.000000</td>\n",
       "      <td>4.350000e+04</td>\n",
       "      <td>38.670000</td>\n",
       "      <td>0.000000</td>\n",
       "      <td>11.710000</td>\n",
       "      <td>0.000000</td>\n",
       "      <td>179.670000</td>\n",
       "      <td>0.000000</td>\n",
       "      <td>...</td>\n",
       "      <td>0.000000</td>\n",
       "      <td>0.000000</td>\n",
       "      <td>1.000000</td>\n",
       "      <td>90.900000</td>\n",
       "      <td>16.700000</td>\n",
       "      <td>0.000000</td>\n",
       "      <td>0.000000</td>\n",
       "      <td>1.928200e+04</td>\n",
       "      <td>6700.000000</td>\n",
       "      <td>1.300000e+04</td>\n",
       "    </tr>\n",
       "    <tr>\n",
       "      <th>50%</th>\n",
       "      <td>10000.000000</td>\n",
       "      <td>11.990000</td>\n",
       "      <td>5.000000</td>\n",
       "      <td>6.100000e+04</td>\n",
       "      <td>43.670000</td>\n",
       "      <td>0.000000</td>\n",
       "      <td>17.490000</td>\n",
       "      <td>0.000000</td>\n",
       "      <td>225.330000</td>\n",
       "      <td>0.000000</td>\n",
       "      <td>...</td>\n",
       "      <td>0.000000</td>\n",
       "      <td>0.000000</td>\n",
       "      <td>2.000000</td>\n",
       "      <td>97.300000</td>\n",
       "      <td>50.000000</td>\n",
       "      <td>0.000000</td>\n",
       "      <td>0.000000</td>\n",
       "      <td>3.479600e+04</td>\n",
       "      <td>13300.000000</td>\n",
       "      <td>2.932300e+04</td>\n",
       "    </tr>\n",
       "    <tr>\n",
       "      <th>75%</th>\n",
       "      <td>16800.000000</td>\n",
       "      <td>14.160000</td>\n",
       "      <td>10.000000</td>\n",
       "      <td>8.900000e+04</td>\n",
       "      <td>49.800000</td>\n",
       "      <td>0.000000</td>\n",
       "      <td>23.960000</td>\n",
       "      <td>0.000000</td>\n",
       "      <td>290.230000</td>\n",
       "      <td>1.000000</td>\n",
       "      <td>...</td>\n",
       "      <td>0.000000</td>\n",
       "      <td>0.000000</td>\n",
       "      <td>3.000000</td>\n",
       "      <td>100.000000</td>\n",
       "      <td>75.000000</td>\n",
       "      <td>0.000000</td>\n",
       "      <td>0.000000</td>\n",
       "      <td>5.886200e+04</td>\n",
       "      <td>25700.000000</td>\n",
       "      <td>5.274300e+04</td>\n",
       "    </tr>\n",
       "    <tr>\n",
       "      <th>max</th>\n",
       "      <td>35000.000000</td>\n",
       "      <td>28.990000</td>\n",
       "      <td>10.000000</td>\n",
       "      <td>8.900060e+06</td>\n",
       "      <td>56.870000</td>\n",
       "      <td>1.000000</td>\n",
       "      <td>137.400000</td>\n",
       "      <td>30.000000</td>\n",
       "      <td>604.730000</td>\n",
       "      <td>6.000000</td>\n",
       "      <td>...</td>\n",
       "      <td>4.000000</td>\n",
       "      <td>30.000000</td>\n",
       "      <td>30.000000</td>\n",
       "      <td>100.000000</td>\n",
       "      <td>100.000000</td>\n",
       "      <td>12.000000</td>\n",
       "      <td>85.000000</td>\n",
       "      <td>2.921551e+06</td>\n",
       "      <td>760000.000000</td>\n",
       "      <td>2.101913e+06</td>\n",
       "    </tr>\n",
       "  </tbody>\n",
       "</table>\n",
       "<p>8 rows × 61 columns</p>\n",
       "</div>"
      ],
      "text/plain": [
       "           loan_amnt       int_rate     emp_length    annual_inc  \\\n",
       "count  384437.000000  384437.000000  384437.000000  3.844370e+05   \n",
       "mean    12702.581372      11.871044     -56.450121  7.349827e+04   \n",
       "std      7949.029793       3.822466     242.427355  6.829160e+04   \n",
       "min      1000.000000       5.320000    -999.000000  0.000000e+00   \n",
       "25%      6875.000000       8.390000       2.000000  4.350000e+04   \n",
       "50%     10000.000000      11.990000       5.000000  6.100000e+04   \n",
       "75%     16800.000000      14.160000      10.000000  8.900000e+04   \n",
       "max     35000.000000      28.990000      10.000000  8.900060e+06   \n",
       "\n",
       "             issue_d    loan_status            dti    delinq_2yrs  \\\n",
       "count  384437.000000  384437.000000  384437.000000  384437.000000   \n",
       "mean       44.341278       0.160448      18.048795       0.347760   \n",
       "std         6.694991       0.367021       8.378578       0.927284   \n",
       "min        33.570000       0.000000       0.000000       0.000000   \n",
       "25%        38.670000       0.000000      11.710000       0.000000   \n",
       "50%        43.670000       0.000000      17.490000       0.000000   \n",
       "75%        49.800000       0.000000      23.960000       0.000000   \n",
       "max        56.870000       1.000000     137.400000      30.000000   \n",
       "\n",
       "       earliest_cr_line  inq_last_6mths             ...              \\\n",
       "count     384437.000000   384437.000000             ...               \n",
       "mean         240.562811        0.665409             ...               \n",
       "std          100.686800        0.955166             ...               \n",
       "min         -611.730000        0.000000             ...               \n",
       "25%          179.670000        0.000000             ...               \n",
       "50%          225.330000        0.000000             ...               \n",
       "75%          290.230000        1.000000             ...               \n",
       "max          604.730000        6.000000             ...               \n",
       "\n",
       "        num_tl_30dpd  num_tl_90g_dpd_24m  num_tl_op_past_12m  pct_tl_nvr_dlq  \\\n",
       "count  384437.000000       384437.000000       384437.000000   384437.000000   \n",
       "mean        0.003751            0.099996            2.145106       93.803849   \n",
       "std         0.065485            0.533980            1.777984        8.946431   \n",
       "min         0.000000            0.000000            0.000000        7.700000   \n",
       "25%         0.000000            0.000000            1.000000       90.900000   \n",
       "50%         0.000000            0.000000            2.000000       97.300000   \n",
       "75%         0.000000            0.000000            3.000000      100.000000   \n",
       "max         4.000000           30.000000           30.000000      100.000000   \n",
       "\n",
       "       percent_bc_gt_75  pub_rec_bankruptcies      tax_liens  \\\n",
       "count     384437.000000         384437.000000  384437.000000   \n",
       "mean          46.911021              0.147967       0.062999   \n",
       "std           35.609497              0.399842       0.455255   \n",
       "min            0.000000              0.000000       0.000000   \n",
       "25%           16.700000              0.000000       0.000000   \n",
       "50%           50.000000              0.000000       0.000000   \n",
       "75%           75.000000              0.000000       0.000000   \n",
       "max          100.000000             12.000000      85.000000   \n",
       "\n",
       "       total_bal_ex_mort  total_bc_limit  total_il_high_credit_limit  \n",
       "count       3.844370e+05   384437.000000                3.844370e+05  \n",
       "mean        4.697164e+04    19964.411555                3.940681e+04  \n",
       "std         4.672218e+04    20964.715769                4.188653e+04  \n",
       "min         0.000000e+00        0.000000                0.000000e+00  \n",
       "25%         1.928200e+04     6700.000000                1.300000e+04  \n",
       "50%         3.479600e+04    13300.000000                2.932300e+04  \n",
       "75%         5.886200e+04    25700.000000                5.274300e+04  \n",
       "max         2.921551e+06   760000.000000                2.101913e+06  \n",
       "\n",
       "[8 rows x 61 columns]"
      ]
     },
     "execution_count": 47,
     "metadata": {},
     "output_type": "execute_result"
    }
   ],
   "source": [
    "fulldata36.describe()"
   ]
  },
  {
   "cell_type": "code",
   "execution_count": 48,
   "metadata": {
    "collapsed": true
   },
   "outputs": [],
   "source": [
    "cat_features_36 = list(fulldata36.select_dtypes(include=['object']).columns)\n",
    "num_features_36 = list(fulldata36.select_dtypes(exclude=['object']).columns)"
   ]
  },
  {
   "cell_type": "markdown",
   "metadata": {},
   "source": [
    "### Feature encoding"
   ]
  },
  {
   "cell_type": "markdown",
   "metadata": {},
   "source": [
    "For catagorical features, we need to transfer them to number using label encoding or one-hot encoding."
   ]
  },
  {
   "cell_type": "code",
   "execution_count": 49,
   "metadata": {
    "collapsed": false
   },
   "outputs": [
    {
     "name": "stdout",
     "output_type": "stream",
     "text": [
      "B    123090\n",
      "C    106001\n",
      "A     88780\n",
      "D     47876\n",
      "E     15158\n",
      "F      3143\n",
      "G       389\n",
      "Name: grade, dtype: int64\n",
      "B5    26195\n",
      "A5    26026\n",
      "B3    25452\n",
      "C1    24994\n",
      "B4    24986\n",
      "C2    24024\n",
      "B2    23923\n",
      "B1    22534\n",
      "C3    21568\n",
      "A4    20734\n",
      "C4    18690\n",
      "C5    16725\n",
      "A3    14149\n",
      "A2    14080\n",
      "A1    13791\n",
      "D1    13487\n",
      "D2    10921\n",
      "D3     9574\n",
      "D4     7623\n",
      "D5     6271\n",
      "E1     4956\n",
      "E2     3714\n",
      "E3     2840\n",
      "E4     1954\n",
      "E5     1694\n",
      "F1     1133\n",
      "F3      689\n",
      "F2      662\n",
      "F4      400\n",
      "F5      259\n",
      "G1      171\n",
      "G2      117\n",
      "G3       61\n",
      "G4       33\n",
      "G5        7\n",
      "Name: sub_grade, dtype: int64\n",
      "nan                                   24867\n",
      "teacher                                8912\n",
      "manager                                8110\n",
      "owner                                  5106\n",
      "registered nurse                       4242\n",
      "supervisor                             3681\n",
      "driver                                 3591\n",
      "sales                                  3477\n",
      "rn                                     3197\n",
      "office manager                         2641\n",
      "project manager                        2423\n",
      "general manager                        2268\n",
      "truck driver                           1958\n",
      "president                              1855\n",
      "director                               1794\n",
      "engineer                               1647\n",
      "sales manager                          1487\n",
      "administrative assistant               1369\n",
      "operations manager                     1334\n",
      "vice president                         1330\n",
      "attorney                               1312\n",
      "accountant                             1278\n",
      "nurse                                  1241\n",
      "store manager                          1231\n",
      "police officer                         1227\n",
      "technician                             1173\n",
      "server                                 1154\n",
      "account manager                        1120\n",
      "assistant manager                      1063\n",
      "mechanic                               1024\n",
      "                                      ...  \n",
      "manage repair rep                         1\n",
      "cost analyst 6                            1\n",
      "fence builder                             1\n",
      "it application developer lead             1\n",
      "contract interpreter                      1\n",
      "contact center engineer                   1\n",
      "skilled maintenance                       1\n",
      "lodging engineer                          1\n",
      "beekeper                                  1\n",
      "care advocate                             1\n",
      "lead teacher assistant director           1\n",
      "phlebotomist/courier                      1\n",
      "medical receptionist / secetary           1\n",
      "groundsworker                             1\n",
      "pumptech                                  1\n",
      "computer support administrator            1\n",
      "manager sales                             1\n",
      "in-house cra                              1\n",
      "operator lll                              1\n",
      "office mgmt support                       1\n",
      "whse receiving                            1\n",
      "lead supply systems analyst               1\n",
      "vp of wealth and asset management         1\n",
      "commtech3                                 1\n",
      "registered optician                       1\n",
      "director of public health                 1\n",
      "trade show installer                      1\n",
      "senior recreation specialist              1\n",
      "systems and technology analyst            1\n",
      "inventory manger                          1\n",
      "Name: emp_title, Length: 92830, dtype: int64\n",
      "MORTGAGE    178376\n",
      "RENT        165160\n",
      "OWN          40901\n",
      "Name: home_ownership, dtype: int64\n",
      "Source Verified    153503\n",
      "Not Verified       125698\n",
      "Verified           105236\n",
      "Name: verification_status, dtype: int64\n",
      "debt_consolidation    223864\n",
      "credit_card            93190\n",
      "home_improvement       21929\n",
      "other                  19951\n",
      "major_purchase          6980\n",
      "medical                 4236\n",
      "car                     3677\n",
      "small_business          3523\n",
      "moving                  2773\n",
      "vacation                2708\n",
      "house                   1349\n",
      "renewable_energy         245\n",
      "wedding                   11\n",
      "educational                1\n",
      "Name: purpose, dtype: int64\n",
      "945    4279\n",
      "750    4163\n",
      "112    4152\n",
      "606    3915\n",
      "300    3537\n",
      "331    3340\n",
      "100    3302\n",
      "900    3280\n",
      "770    3212\n",
      "070    3140\n",
      "891    3060\n",
      "917    2870\n",
      "330    2838\n",
      "104    2729\n",
      "117    2543\n",
      "921    2527\n",
      "852    2471\n",
      "926    2277\n",
      "913    2262\n",
      "334    2171\n",
      "113    2124\n",
      "925    2118\n",
      "481    2101\n",
      "600    2014\n",
      "601    1995\n",
      "604    1983\n",
      "956    1962\n",
      "920    1947\n",
      "941    1915\n",
      "802    1896\n",
      "       ... \n",
      "862       1\n",
      "682       1\n",
      "522       1\n",
      "649       1\n",
      "849       1\n",
      "837       1\n",
      "097       1\n",
      "892       1\n",
      "702       1\n",
      "520       1\n",
      "835       1\n",
      "817       1\n",
      "854       1\n",
      "511       1\n",
      "709       1\n",
      "523       1\n",
      "663       1\n",
      "838       1\n",
      "938       1\n",
      "509       1\n",
      "504       1\n",
      "203       1\n",
      "507       1\n",
      "901       1\n",
      "429       1\n",
      "833       1\n",
      "501       1\n",
      "929       1\n",
      "771       1\n",
      "007       1\n",
      "Name: zip_code, Length: 906, dtype: int64\n",
      "CA    57414\n",
      "NY    31836\n",
      "TX    31746\n",
      "FL    27089\n",
      "IL    15500\n",
      "NJ    13717\n",
      "PA    12934\n",
      "GA    12462\n",
      "OH    12397\n",
      "VA    10593\n",
      "MI    10361\n",
      "NC    10309\n",
      "AZ     9249\n",
      "MD     8667\n",
      "WA     8453\n",
      "MA     8380\n",
      "CO     8236\n",
      "MN     7037\n",
      "IN     6383\n",
      "TN     6039\n",
      "MO     5978\n",
      "NV     5821\n",
      "CT     5545\n",
      "WI     5147\n",
      "OR     4908\n",
      "AL     4583\n",
      "LA     4457\n",
      "SC     4427\n",
      "KY     3549\n",
      "OK     3489\n",
      "KS     3274\n",
      "AR     2835\n",
      "UT     2665\n",
      "NM     2240\n",
      "MS     2084\n",
      "HI     1914\n",
      "NH     1857\n",
      "WV     1721\n",
      "RI     1637\n",
      "MT     1128\n",
      "DC     1033\n",
      "DE     1031\n",
      "AK      943\n",
      "WY      867\n",
      "VT      828\n",
      "SD      797\n",
      "NE      496\n",
      "ND      194\n",
      "ME      185\n",
      "IA        1\n",
      "ID        1\n",
      "Name: addr_state, dtype: int64\n",
      "w    201901\n",
      "f    182536\n",
      "Name: initial_list_status, dtype: int64\n",
      "N    377274\n",
      "Y      7163\n",
      "Name: debt_settlement_flag, dtype: int64\n"
     ]
    }
   ],
   "source": [
    "for x in cat_features_36:\n",
    "    print(fulldata36[x].value_counts())"
   ]
  },
  {
   "cell_type": "markdown",
   "metadata": {},
   "source": [
    "### Feature expanding"
   ]
  },
  {
   "cell_type": "markdown",
   "metadata": {},
   "source": [
    "#### High cardinality feature encoding"
   ]
  },
  {
   "cell_type": "markdown",
   "metadata": {},
   "source": [
    "we can see there is high cardinality features 'emp_title', and 'zip_code' in numerical features. Label encoding will make the model explain those features in ordinal relationship, which is incorrect. One-hot encoding will  expand too much data to process, expecially emp_title, which contains 92830 different values.\n",
    "\n",
    "We can use frequency encoding to process those features.\n"
   ]
  },
  {
   "cell_type": "code",
   "execution_count": 50,
   "metadata": {
    "collapsed": false
   },
   "outputs": [
    {
     "data": {
      "text/plain": [
       "(92830, 906)"
      ]
     },
     "execution_count": 50,
     "metadata": {},
     "output_type": "execute_result"
    }
   ],
   "source": [
    "fulldata36['emp_title'].nunique(),fulldata36['zip_code'].nunique()"
   ]
  },
  {
   "cell_type": "code",
   "execution_count": 51,
   "metadata": {
    "collapsed": true
   },
   "outputs": [],
   "source": [
    "zipcode_freq = fulldata36.groupby('zip_code').size().reset_index()\n",
    "zipcode_freq.columns = ['zip_code', 'zipcode_freq']\n",
    "emptitle_freq = fulldata36.groupby('emp_title').size().reset_index()\n",
    "emptitle_freq.columns = ['emp_title', 'emptitle_freq']"
   ]
  },
  {
   "cell_type": "code",
   "execution_count": 52,
   "metadata": {
    "collapsed": true
   },
   "outputs": [],
   "source": [
    "fulldata36 = pd.merge(fulldata36, zipcode_freq, how = 'left', on = 'zip_code')\n",
    "fulldata36 = pd.merge(fulldata36, emptitle_freq, how = 'left', on = 'emp_title')\n",
    "fulldata36.drop(['zip_code','emp_title'],axis = 1,inplace = True)"
   ]
  },
  {
   "cell_type": "code",
   "execution_count": 53,
   "metadata": {
    "collapsed": false,
    "scrolled": true
   },
   "outputs": [
    {
     "data": {
      "text/html": [
       "<div>\n",
       "<style>\n",
       "    .dataframe thead tr:only-child th {\n",
       "        text-align: right;\n",
       "    }\n",
       "\n",
       "    .dataframe thead th {\n",
       "        text-align: left;\n",
       "    }\n",
       "\n",
       "    .dataframe tbody tr th {\n",
       "        vertical-align: top;\n",
       "    }\n",
       "</style>\n",
       "<table border=\"1\" class=\"dataframe\">\n",
       "  <thead>\n",
       "    <tr style=\"text-align: right;\">\n",
       "      <th></th>\n",
       "      <th>loan_amnt</th>\n",
       "      <th>int_rate</th>\n",
       "      <th>grade</th>\n",
       "      <th>sub_grade</th>\n",
       "      <th>emp_length</th>\n",
       "      <th>home_ownership</th>\n",
       "      <th>annual_inc</th>\n",
       "      <th>verification_status</th>\n",
       "      <th>issue_d</th>\n",
       "      <th>loan_status</th>\n",
       "      <th>...</th>\n",
       "      <th>pct_tl_nvr_dlq</th>\n",
       "      <th>percent_bc_gt_75</th>\n",
       "      <th>pub_rec_bankruptcies</th>\n",
       "      <th>tax_liens</th>\n",
       "      <th>total_bal_ex_mort</th>\n",
       "      <th>total_bc_limit</th>\n",
       "      <th>total_il_high_credit_limit</th>\n",
       "      <th>debt_settlement_flag</th>\n",
       "      <th>zipcode_freq</th>\n",
       "      <th>emptitle_freq</th>\n",
       "    </tr>\n",
       "  </thead>\n",
       "  <tbody>\n",
       "    <tr>\n",
       "      <th>0</th>\n",
       "      <td>10400</td>\n",
       "      <td>6.99</td>\n",
       "      <td>A</td>\n",
       "      <td>A3</td>\n",
       "      <td>8</td>\n",
       "      <td>MORTGAGE</td>\n",
       "      <td>58000.0</td>\n",
       "      <td>Not Verified</td>\n",
       "      <td>45.73</td>\n",
       "      <td>1</td>\n",
       "      <td>...</td>\n",
       "      <td>83.3</td>\n",
       "      <td>14.3</td>\n",
       "      <td>0</td>\n",
       "      <td>0</td>\n",
       "      <td>15030</td>\n",
       "      <td>13000</td>\n",
       "      <td>11325</td>\n",
       "      <td>N</td>\n",
       "      <td>580</td>\n",
       "      <td>2</td>\n",
       "    </tr>\n",
       "    <tr>\n",
       "      <th>1</th>\n",
       "      <td>9600</td>\n",
       "      <td>13.66</td>\n",
       "      <td>C</td>\n",
       "      <td>C3</td>\n",
       "      <td>10</td>\n",
       "      <td>RENT</td>\n",
       "      <td>69000.0</td>\n",
       "      <td>Source Verified</td>\n",
       "      <td>45.73</td>\n",
       "      <td>0</td>\n",
       "      <td>...</td>\n",
       "      <td>100.0</td>\n",
       "      <td>60.0</td>\n",
       "      <td>0</td>\n",
       "      <td>0</td>\n",
       "      <td>38566</td>\n",
       "      <td>21100</td>\n",
       "      <td>24890</td>\n",
       "      <td>N</td>\n",
       "      <td>872</td>\n",
       "      <td>9</td>\n",
       "    </tr>\n",
       "    <tr>\n",
       "      <th>2</th>\n",
       "      <td>7650</td>\n",
       "      <td>13.66</td>\n",
       "      <td>C</td>\n",
       "      <td>C3</td>\n",
       "      <td>0</td>\n",
       "      <td>RENT</td>\n",
       "      <td>50000.0</td>\n",
       "      <td>Source Verified</td>\n",
       "      <td>45.73</td>\n",
       "      <td>1</td>\n",
       "      <td>...</td>\n",
       "      <td>100.0</td>\n",
       "      <td>100.0</td>\n",
       "      <td>0</td>\n",
       "      <td>0</td>\n",
       "      <td>64426</td>\n",
       "      <td>4900</td>\n",
       "      <td>64031</td>\n",
       "      <td>N</td>\n",
       "      <td>1801</td>\n",
       "      <td>52</td>\n",
       "    </tr>\n",
       "    <tr>\n",
       "      <th>3</th>\n",
       "      <td>23325</td>\n",
       "      <td>14.31</td>\n",
       "      <td>C</td>\n",
       "      <td>C4</td>\n",
       "      <td>10</td>\n",
       "      <td>RENT</td>\n",
       "      <td>72000.0</td>\n",
       "      <td>Source Verified</td>\n",
       "      <td>45.73</td>\n",
       "      <td>1</td>\n",
       "      <td>...</td>\n",
       "      <td>95.7</td>\n",
       "      <td>66.7</td>\n",
       "      <td>0</td>\n",
       "      <td>0</td>\n",
       "      <td>79490</td>\n",
       "      <td>36000</td>\n",
       "      <td>78126</td>\n",
       "      <td>N</td>\n",
       "      <td>1088</td>\n",
       "      <td>8912</td>\n",
       "    </tr>\n",
       "    <tr>\n",
       "      <th>4</th>\n",
       "      <td>17000</td>\n",
       "      <td>13.66</td>\n",
       "      <td>C</td>\n",
       "      <td>C3</td>\n",
       "      <td>10</td>\n",
       "      <td>MORTGAGE</td>\n",
       "      <td>75000.0</td>\n",
       "      <td>Verified</td>\n",
       "      <td>45.73</td>\n",
       "      <td>0</td>\n",
       "      <td>...</td>\n",
       "      <td>87.1</td>\n",
       "      <td>100.0</td>\n",
       "      <td>0</td>\n",
       "      <td>0</td>\n",
       "      <td>36205</td>\n",
       "      <td>4000</td>\n",
       "      <td>41370</td>\n",
       "      <td>N</td>\n",
       "      <td>433</td>\n",
       "      <td>269</td>\n",
       "    </tr>\n",
       "  </tbody>\n",
       "</table>\n",
       "<p>5 rows × 71 columns</p>\n",
       "</div>"
      ],
      "text/plain": [
       "   loan_amnt  int_rate grade sub_grade  emp_length home_ownership  annual_inc  \\\n",
       "0      10400      6.99     A        A3           8       MORTGAGE     58000.0   \n",
       "1       9600     13.66     C        C3          10           RENT     69000.0   \n",
       "2       7650     13.66     C        C3           0           RENT     50000.0   \n",
       "3      23325     14.31     C        C4          10           RENT     72000.0   \n",
       "4      17000     13.66     C        C3          10       MORTGAGE     75000.0   \n",
       "\n",
       "  verification_status  issue_d  loan_status      ...       pct_tl_nvr_dlq  \\\n",
       "0        Not Verified    45.73            1      ...                 83.3   \n",
       "1     Source Verified    45.73            0      ...                100.0   \n",
       "2     Source Verified    45.73            1      ...                100.0   \n",
       "3     Source Verified    45.73            1      ...                 95.7   \n",
       "4            Verified    45.73            0      ...                 87.1   \n",
       "\n",
       "  percent_bc_gt_75  pub_rec_bankruptcies  tax_liens  total_bal_ex_mort  \\\n",
       "0             14.3                     0          0              15030   \n",
       "1             60.0                     0          0              38566   \n",
       "2            100.0                     0          0              64426   \n",
       "3             66.7                     0          0              79490   \n",
       "4            100.0                     0          0              36205   \n",
       "\n",
       "   total_bc_limit  total_il_high_credit_limit  debt_settlement_flag  \\\n",
       "0           13000                       11325                     N   \n",
       "1           21100                       24890                     N   \n",
       "2            4900                       64031                     N   \n",
       "3           36000                       78126                     N   \n",
       "4            4000                       41370                     N   \n",
       "\n",
       "   zipcode_freq  emptitle_freq  \n",
       "0           580              2  \n",
       "1           872              9  \n",
       "2          1801             52  \n",
       "3          1088           8912  \n",
       "4           433            269  \n",
       "\n",
       "[5 rows x 71 columns]"
      ]
     },
     "execution_count": 53,
     "metadata": {},
     "output_type": "execute_result"
    }
   ],
   "source": [
    "fulldata36.head()"
   ]
  },
  {
   "cell_type": "markdown",
   "metadata": {},
   "source": [
    "For state information, we introduce the state's average income from US.Census as an extra feature."
   ]
  },
  {
   "cell_type": "code",
   "execution_count": 54,
   "metadata": {
    "collapsed": true
   },
   "outputs": [],
   "source": [
    "avg_income = pd.read_csv('supportiveData/state_income.csv')\n",
    "fulldata36 = pd.merge(fulldata36, avg_income, how = 'left', on = 'addr_state')\n",
    "cat_features_36 = list(fulldata36.select_dtypes(include=['object']).columns)"
   ]
  },
  {
   "cell_type": "markdown",
   "metadata": {},
   "source": [
    "#### Catagorical features take aways:\n",
    "\n",
    "**Grade: **From A to G, the the number of fully paid applicant is increasing. However, although B is lower than A, it generates higher number of applicants fully paid off because there are more level B applicants than A .\n",
    "\n",
    "**subGrade: **Same situation shows in subgrade, there are much more level B and C applicants to borrow on platform.\n",
    "\n",
    "**home_ownership: **Only a small portion of applicants owns the home and they are less likely to default.\n",
    "\n",
    "**verification_status: ** Indicates if income was verified by LC, not verified, or if the income source was verified. Whether the income is verified or not would not generate a huge impact to paid off rate. According to countplot, given the similar number of charged off applicants, source verified returns more applicants fully paid, which indicates that source verified by LC is not as solid as verified by others. \n",
    "\n",
    "**purpose: **Most of people borrow on platform to pay their credit card and debt consolidation.\n",
    "\n",
    "**addr_state: **Most of borrower are from CA, TX, NY AND FL.\n",
    "\n",
    "**initial_status: **w gives more applicants paid off, but the difference btw f&w is not that huge.\n",
    "\n",
    "**debt_settlement_flag: ** When there is a flag, the applicant is 100% default.\n",
    "    "
   ]
  },
  {
   "cell_type": "code",
   "execution_count": 257,
   "metadata": {
    "collapsed": false
   },
   "outputs": [
    {
     "data": {
      "image/png": "[encoded data removed]",
      "text/plain": [
       "<matplotlib.figure.Figure at 0x1210b82e8>"
      ]
     },
     "metadata": {},
     "output_type": "display_data"
    },
    {
     "data": {
      "image/png": "[encoded data removed]",
      "text/plain": [
       "<matplotlib.figure.Figure at 0x119fa8588>"
      ]
     },
     "metadata": {},
     "output_type": "display_data"
    },
    {
     "data": {
      "image/png": "[encoded data removed]",
      "text/plain": [
       "<matplotlib.figure.Figure at 0x1262996d8>"
      ]
     },
     "metadata": {},
     "output_type": "display_data"
    },
    {
     "data": {
      "image/png": "[encoded data removed]",
      "text/plain": [
       "<matplotlib.figure.Figure at 0x12db38da0>"
      ]
     },
     "metadata": {},
     "output_type": "display_data"
    },
    {
     "data": {
      "image/png": "[encoded data removed]",
      "text/plain": [
       "<matplotlib.figure.Figure at 0x12d1dbe80>"
      ]
     },
     "metadata": {},
     "output_type": "display_data"
    },
    {
     "data": {
      "image/png": "[encoded data removed]",
      "text/plain": [
       "<matplotlib.figure.Figure at 0x12dc75be0>"
      ]
     },
     "metadata": {},
     "output_type": "display_data"
    },
    {
     "data": {
      "image/png": "[encoded data removed]",
      "text/plain": [
       "<matplotlib.figure.Figure at 0x12f600278>"
      ]
     },
     "metadata": {},
     "output_type": "display_data"
    },
    {
     "data": {
      "image/png": "[encoded data removed]",
      "text/plain": [
       "<matplotlib.figure.Figure at 0x12f34c438>"
      ]
     },
     "metadata": {},
     "output_type": "display_data"
    }
   ],
   "source": [
    "for x in cat_features_36:\n",
    "    fig, ax = plt.subplots(figsize=(10,8))\n",
    "    sns.countplot(fulldata36[x].sort_values(),hue=fulldata36['loan_status'],ax=ax)\n",
    "    plt.show()"
   ]
  },
  {
   "cell_type": "markdown",
   "metadata": {
    "collapsed": true
   },
   "source": [
    "#### Label encoding & one-hot encoding\n",
    "\n",
    "Label encoding transfer catagorical features to numbers.\n",
    "\n",
    "One-hot encoding transfter numbers to dummy variables to eliminate the ordinality in features."
   ]
  },
  {
   "cell_type": "markdown",
   "metadata": {},
   "source": [
    "Label encoding: Since grade and subgrade is ordinal, we should keep them in numbers."
   ]
  },
  {
   "cell_type": "code",
   "execution_count": 55,
   "metadata": {
    "collapsed": true
   },
   "outputs": [],
   "source": [
    "def label_encoding(df,cat_features):\n",
    "    print(\"Encode Variables\")\n",
    "\n",
    "    # import encoding tool  \n",
    "    LE = preprocessing.LabelEncoder()\n",
    "\n",
    "    LE_vars=[]\n",
    "    LE_map=dict()\n",
    "    for cat_var in cat_features:\n",
    "        print (\"Label Encoding %s\" % (cat_var))\n",
    "        LE_var=cat_var+'_le'\n",
    "    #     Fit encoder and return encoded labels\n",
    "        df[LE_var]=LE.fit_transform(df[cat_var].astype(str))\n",
    "        LE_vars.append(LE_var)\n",
    "    #     append encoded label to dict with its original contents\n",
    "        LE_map[cat_var]=LE.classes_\n",
    "\n",
    "    # Keep encoded cata features\n",
    "    df.drop(cat_features, axis = 1, inplace =True)\n",
    "    print (\"Label-encoded feaures: %s\" % (LE_vars))  "
   ]
  },
  {
   "cell_type": "code",
   "execution_count": 56,
   "metadata": {
    "collapsed": false
   },
   "outputs": [
    {
     "name": "stdout",
     "output_type": "stream",
     "text": [
      "Encode Variables\n",
      "Label Encoding grade\n",
      "Label Encoding sub_grade\n",
      "Label-encoded feaures: ['grade_le', 'sub_grade_le']\n"
     ]
    }
   ],
   "source": [
    "label_encoding(fulldata36, ['grade','sub_grade'])"
   ]
  },
  {
   "cell_type": "markdown",
   "metadata": {},
   "source": [
    "One-hot encoding"
   ]
  },
  {
   "cell_type": "code",
   "execution_count": 57,
   "metadata": {
    "collapsed": false
   },
   "outputs": [
    {
     "data": {
      "text/plain": [
       "(384437, 72)"
      ]
     },
     "execution_count": 57,
     "metadata": {},
     "output_type": "execute_result"
    }
   ],
   "source": [
    "fulldata36.shape"
   ]
  },
  {
   "cell_type": "code",
   "execution_count": 58,
   "metadata": {
    "collapsed": true
   },
   "outputs": [],
   "source": [
    "dummy_feature = ['home_ownership','verification_status','purpose','addr_state','initial_list_status','debt_settlement_flag']\n",
    "fulldata36_dummy = pd.get_dummies(fulldata36[dummy_feature])"
   ]
  },
  {
   "cell_type": "code",
   "execution_count": 59,
   "metadata": {
    "collapsed": false
   },
   "outputs": [
    {
     "data": {
      "text/plain": [
       "['home_ownership_MORTGAGE',\n",
       " 'home_ownership_OWN',\n",
       " 'home_ownership_RENT',\n",
       " 'verification_status_Not Verified',\n",
       " 'verification_status_Source Verified',\n",
       " 'verification_status_Verified',\n",
       " 'purpose_car',\n",
       " 'purpose_credit_card',\n",
       " 'purpose_debt_consolidation',\n",
       " 'purpose_educational',\n",
       " 'purpose_home_improvement',\n",
       " 'purpose_house',\n",
       " 'purpose_major_purchase',\n",
       " 'purpose_medical',\n",
       " 'purpose_moving',\n",
       " 'purpose_other',\n",
       " 'purpose_renewable_energy',\n",
       " 'purpose_small_business',\n",
       " 'purpose_vacation',\n",
       " 'purpose_wedding',\n",
       " 'addr_state_AK',\n",
       " 'addr_state_AL',\n",
       " 'addr_state_AR',\n",
       " 'addr_state_AZ',\n",
       " 'addr_state_CA',\n",
       " 'addr_state_CO',\n",
       " 'addr_state_CT',\n",
       " 'addr_state_DC',\n",
       " 'addr_state_DE',\n",
       " 'addr_state_FL',\n",
       " 'addr_state_GA',\n",
       " 'addr_state_HI',\n",
       " 'addr_state_IA',\n",
       " 'addr_state_ID',\n",
       " 'addr_state_IL',\n",
       " 'addr_state_IN',\n",
       " 'addr_state_KS',\n",
       " 'addr_state_KY',\n",
       " 'addr_state_LA',\n",
       " 'addr_state_MA',\n",
       " 'addr_state_MD',\n",
       " 'addr_state_ME',\n",
       " 'addr_state_MI',\n",
       " 'addr_state_MN',\n",
       " 'addr_state_MO',\n",
       " 'addr_state_MS',\n",
       " 'addr_state_MT',\n",
       " 'addr_state_NC',\n",
       " 'addr_state_ND',\n",
       " 'addr_state_NE',\n",
       " 'addr_state_NH',\n",
       " 'addr_state_NJ',\n",
       " 'addr_state_NM',\n",
       " 'addr_state_NV',\n",
       " 'addr_state_NY',\n",
       " 'addr_state_OH',\n",
       " 'addr_state_OK',\n",
       " 'addr_state_OR',\n",
       " 'addr_state_PA',\n",
       " 'addr_state_RI',\n",
       " 'addr_state_SC',\n",
       " 'addr_state_SD',\n",
       " 'addr_state_TN',\n",
       " 'addr_state_TX',\n",
       " 'addr_state_UT',\n",
       " 'addr_state_VA',\n",
       " 'addr_state_VT',\n",
       " 'addr_state_WA',\n",
       " 'addr_state_WI',\n",
       " 'addr_state_WV',\n",
       " 'addr_state_WY',\n",
       " 'initial_list_status_f',\n",
       " 'initial_list_status_w',\n",
       " 'debt_settlement_flag_N',\n",
       " 'debt_settlement_flag_Y']"
      ]
     },
     "execution_count": 59,
     "metadata": {},
     "output_type": "execute_result"
    }
   ],
   "source": [
    "OHE_feature=list(fulldata36_dummy.columns.values)\n",
    "OHE_feature"
   ]
  },
  {
   "cell_type": "code",
   "execution_count": 60,
   "metadata": {
    "collapsed": true
   },
   "outputs": [],
   "source": [
    "fulldata36_withDummy = pd.concat([fulldata36,fulldata36_dummy], axis=1 )"
   ]
  },
  {
   "cell_type": "code",
   "execution_count": 61,
   "metadata": {
    "collapsed": true
   },
   "outputs": [],
   "source": [
    "fulldata36_final = fulldata36_withDummy.drop(dummy_feature,axis = 1)"
   ]
  },
  {
   "cell_type": "code",
   "execution_count": 62,
   "metadata": {
    "collapsed": false
   },
   "outputs": [
    {
     "data": {
      "text/html": [
       "<div>\n",
       "<style>\n",
       "    .dataframe thead tr:only-child th {\n",
       "        text-align: right;\n",
       "    }\n",
       "\n",
       "    .dataframe thead th {\n",
       "        text-align: left;\n",
       "    }\n",
       "\n",
       "    .dataframe tbody tr th {\n",
       "        vertical-align: top;\n",
       "    }\n",
       "</style>\n",
       "<table border=\"1\" class=\"dataframe\">\n",
       "  <thead>\n",
       "    <tr style=\"text-align: right;\">\n",
       "      <th></th>\n",
       "      <th>loan_amnt</th>\n",
       "      <th>int_rate</th>\n",
       "      <th>emp_length</th>\n",
       "      <th>annual_inc</th>\n",
       "      <th>issue_d</th>\n",
       "      <th>loan_status</th>\n",
       "      <th>dti</th>\n",
       "      <th>delinq_2yrs</th>\n",
       "      <th>earliest_cr_line</th>\n",
       "      <th>inq_last_6mths</th>\n",
       "      <th>...</th>\n",
       "      <th>addr_state_VA</th>\n",
       "      <th>addr_state_VT</th>\n",
       "      <th>addr_state_WA</th>\n",
       "      <th>addr_state_WI</th>\n",
       "      <th>addr_state_WV</th>\n",
       "      <th>addr_state_WY</th>\n",
       "      <th>initial_list_status_f</th>\n",
       "      <th>initial_list_status_w</th>\n",
       "      <th>debt_settlement_flag_N</th>\n",
       "      <th>debt_settlement_flag_Y</th>\n",
       "    </tr>\n",
       "  </thead>\n",
       "  <tbody>\n",
       "    <tr>\n",
       "      <th>0</th>\n",
       "      <td>10400</td>\n",
       "      <td>6.99</td>\n",
       "      <td>8</td>\n",
       "      <td>58000.0</td>\n",
       "      <td>45.73</td>\n",
       "      <td>1</td>\n",
       "      <td>14.92</td>\n",
       "      <td>0</td>\n",
       "      <td>353.13</td>\n",
       "      <td>2</td>\n",
       "      <td>...</td>\n",
       "      <td>0</td>\n",
       "      <td>0</td>\n",
       "      <td>0</td>\n",
       "      <td>0</td>\n",
       "      <td>0</td>\n",
       "      <td>0</td>\n",
       "      <td>0</td>\n",
       "      <td>1</td>\n",
       "      <td>1</td>\n",
       "      <td>0</td>\n",
       "    </tr>\n",
       "    <tr>\n",
       "      <th>1</th>\n",
       "      <td>9600</td>\n",
       "      <td>13.66</td>\n",
       "      <td>10</td>\n",
       "      <td>69000.0</td>\n",
       "      <td>45.73</td>\n",
       "      <td>0</td>\n",
       "      <td>25.81</td>\n",
       "      <td>0</td>\n",
       "      <td>314.57</td>\n",
       "      <td>0</td>\n",
       "      <td>...</td>\n",
       "      <td>0</td>\n",
       "      <td>0</td>\n",
       "      <td>0</td>\n",
       "      <td>0</td>\n",
       "      <td>0</td>\n",
       "      <td>0</td>\n",
       "      <td>1</td>\n",
       "      <td>0</td>\n",
       "      <td>1</td>\n",
       "      <td>0</td>\n",
       "    </tr>\n",
       "    <tr>\n",
       "      <th>2</th>\n",
       "      <td>7650</td>\n",
       "      <td>13.66</td>\n",
       "      <td>0</td>\n",
       "      <td>50000.0</td>\n",
       "      <td>45.73</td>\n",
       "      <td>1</td>\n",
       "      <td>34.81</td>\n",
       "      <td>0</td>\n",
       "      <td>195.90</td>\n",
       "      <td>1</td>\n",
       "      <td>...</td>\n",
       "      <td>0</td>\n",
       "      <td>0</td>\n",
       "      <td>0</td>\n",
       "      <td>0</td>\n",
       "      <td>0</td>\n",
       "      <td>0</td>\n",
       "      <td>1</td>\n",
       "      <td>0</td>\n",
       "      <td>1</td>\n",
       "      <td>0</td>\n",
       "    </tr>\n",
       "    <tr>\n",
       "      <th>3</th>\n",
       "      <td>23325</td>\n",
       "      <td>14.31</td>\n",
       "      <td>10</td>\n",
       "      <td>72000.0</td>\n",
       "      <td>45.73</td>\n",
       "      <td>1</td>\n",
       "      <td>27.03</td>\n",
       "      <td>1</td>\n",
       "      <td>242.57</td>\n",
       "      <td>0</td>\n",
       "      <td>...</td>\n",
       "      <td>0</td>\n",
       "      <td>0</td>\n",
       "      <td>1</td>\n",
       "      <td>0</td>\n",
       "      <td>0</td>\n",
       "      <td>0</td>\n",
       "      <td>1</td>\n",
       "      <td>0</td>\n",
       "      <td>1</td>\n",
       "      <td>0</td>\n",
       "    </tr>\n",
       "    <tr>\n",
       "      <th>4</th>\n",
       "      <td>17000</td>\n",
       "      <td>13.66</td>\n",
       "      <td>10</td>\n",
       "      <td>75000.0</td>\n",
       "      <td>45.73</td>\n",
       "      <td>0</td>\n",
       "      <td>23.63</td>\n",
       "      <td>0</td>\n",
       "      <td>215.13</td>\n",
       "      <td>0</td>\n",
       "      <td>...</td>\n",
       "      <td>0</td>\n",
       "      <td>0</td>\n",
       "      <td>0</td>\n",
       "      <td>0</td>\n",
       "      <td>0</td>\n",
       "      <td>0</td>\n",
       "      <td>1</td>\n",
       "      <td>0</td>\n",
       "      <td>1</td>\n",
       "      <td>0</td>\n",
       "    </tr>\n",
       "  </tbody>\n",
       "</table>\n",
       "<p>5 rows × 141 columns</p>\n",
       "</div>"
      ],
      "text/plain": [
       "   loan_amnt  int_rate  emp_length  annual_inc  issue_d  loan_status    dti  \\\n",
       "0      10400      6.99           8     58000.0    45.73            1  14.92   \n",
       "1       9600     13.66          10     69000.0    45.73            0  25.81   \n",
       "2       7650     13.66           0     50000.0    45.73            1  34.81   \n",
       "3      23325     14.31          10     72000.0    45.73            1  27.03   \n",
       "4      17000     13.66          10     75000.0    45.73            0  23.63   \n",
       "\n",
       "   delinq_2yrs  earliest_cr_line  inq_last_6mths           ...            \\\n",
       "0            0            353.13               2           ...             \n",
       "1            0            314.57               0           ...             \n",
       "2            0            195.90               1           ...             \n",
       "3            1            242.57               0           ...             \n",
       "4            0            215.13               0           ...             \n",
       "\n",
       "   addr_state_VA  addr_state_VT  addr_state_WA  addr_state_WI  addr_state_WV  \\\n",
       "0              0              0              0              0              0   \n",
       "1              0              0              0              0              0   \n",
       "2              0              0              0              0              0   \n",
       "3              0              0              1              0              0   \n",
       "4              0              0              0              0              0   \n",
       "\n",
       "   addr_state_WY  initial_list_status_f  initial_list_status_w  \\\n",
       "0              0                      0                      1   \n",
       "1              0                      1                      0   \n",
       "2              0                      1                      0   \n",
       "3              0                      1                      0   \n",
       "4              0                      1                      0   \n",
       "\n",
       "   debt_settlement_flag_N  debt_settlement_flag_Y  \n",
       "0                       1                       0  \n",
       "1                       1                       0  \n",
       "2                       1                       0  \n",
       "3                       1                       0  \n",
       "4                       1                       0  \n",
       "\n",
       "[5 rows x 141 columns]"
      ]
     },
     "execution_count": 62,
     "metadata": {},
     "output_type": "execute_result"
    }
   ],
   "source": [
    "fulldata36_final.head()"
   ]
  },
  {
   "cell_type": "code",
   "execution_count": 63,
   "metadata": {
    "collapsed": false
   },
   "outputs": [
    {
     "data": {
      "text/plain": [
       "(384437, 141)"
      ]
     },
     "execution_count": 63,
     "metadata": {},
     "output_type": "execute_result"
    }
   ],
   "source": [
    "fulldata36_final.shape"
   ]
  },
  {
   "cell_type": "code",
   "execution_count": 64,
   "metadata": {
    "collapsed": false
   },
   "outputs": [
    {
     "data": {
      "text/plain": [
       "0    0.839552\n",
       "1    0.160448\n",
       "Name: loan_status, dtype: float64"
      ]
     },
     "execution_count": 64,
     "metadata": {},
     "output_type": "execute_result"
    }
   ],
   "source": [
    "fulldata36_final['loan_status'].value_counts(normalize=True)"
   ]
  },
  {
   "cell_type": "code",
   "execution_count": 650,
   "metadata": {
    "collapsed": true
   },
   "outputs": [],
   "source": [
    "testlist = [x for x in list(fulldata36_final.columns) if x not in ['zipcode_freq','emptitle_freq','2015_familyincome_median',  'addr_state_AK',\n",
    " 'addr_state_AL',\n",
    " 'addr_state_AR',\n",
    " 'addr_state_AZ',\n",
    " 'addr_state_CA',\n",
    " 'addr_state_CO',\n",
    " 'addr_state_CT',\n",
    " 'addr_state_DC',\n",
    " 'addr_state_DE',\n",
    " 'addr_state_FL',\n",
    " 'addr_state_GA',\n",
    " 'addr_state_HI',\n",
    " 'addr_state_IA',\n",
    " 'addr_state_ID',\n",
    " 'addr_state_IL',\n",
    " 'addr_state_IN',\n",
    " 'addr_state_KS',\n",
    " 'addr_state_KY',\n",
    " 'addr_state_LA',\n",
    " 'addr_state_MA',\n",
    " 'addr_state_MD',\n",
    " 'addr_state_ME',\n",
    " 'addr_state_MI',\n",
    " 'addr_state_MN',\n",
    " 'addr_state_MO',\n",
    " 'addr_state_MS',\n",
    " 'addr_state_MT',\n",
    " 'addr_state_NC',\n",
    " 'addr_state_ND',\n",
    " 'addr_state_NE',\n",
    " 'addr_state_NH',\n",
    " 'addr_state_NJ',\n",
    " 'addr_state_NM',\n",
    " 'addr_state_NV',\n",
    " 'addr_state_NY',\n",
    " 'addr_state_OH',\n",
    " 'addr_state_OK',\n",
    " 'addr_state_OR',\n",
    " 'addr_state_PA',\n",
    " 'addr_state_RI',\n",
    " 'addr_state_SC',\n",
    " 'addr_state_SD',\n",
    " 'addr_state_TN',\n",
    " 'addr_state_TX',\n",
    " 'addr_state_UT',\n",
    " 'addr_state_VA',\n",
    " 'addr_state_VT',\n",
    " 'addr_state_WA',\n",
    " 'addr_state_WI',\n",
    " 'addr_state_WV',\n",
    " 'addr_state_WY',\n",
    " 'initial_list_status_f',\n",
    " 'initial_list_status_w',\n",
    " 'debt_settlement_flag_N',\n",
    " 'debt_settlement_flag_Y','loan_status']]"
   ]
  },
  {
   "cell_type": "markdown",
   "metadata": {},
   "source": [
    "## Model building"
   ]
  },
  {
   "cell_type": "markdown",
   "metadata": {},
   "source": [
    "Split the data into 3 sets: train(0.56), test(0.2), valid(0.24)"
   ]
  },
  {
   "cell_type": "code",
   "execution_count": 65,
   "metadata": {
    "collapsed": true
   },
   "outputs": [],
   "source": [
    "fulldata36_final_train = fulldata36_final.iloc[:307549,:].drop('loan_status',axis = 1)\n",
    "fulldata36_final_train_label = fulldata36_final.iloc[:307549,:]['loan_status']\n",
    "fulldata36_final_test = fulldata36_final.iloc[307549:,:].drop('loan_status',axis = 1)\n",
    "fulldata36_final_test_label = fulldata36_final.iloc[307549:,:]['loan_status']\n"
   ]
  },
  {
   "cell_type": "code",
   "execution_count": 66,
   "metadata": {
    "collapsed": true
   },
   "outputs": [],
   "source": [
    "X_train, X_valid, y_train, y_valid = train_test_split(fulldata36_final_train, fulldata36_final_train_label, \n",
    "                                                      test_size=0.3, random_state=2014, stratify = fulldata36_final_train_label)"
   ]
  },
  {
   "cell_type": "code",
   "execution_count": 67,
   "metadata": {
    "collapsed": true
   },
   "outputs": [],
   "source": [
    "X_test, y_test = fulldata36_final_test, fulldata36_final_test_label"
   ]
  },
  {
   "cell_type": "code",
   "execution_count": 68,
   "metadata": {
    "collapsed": false
   },
   "outputs": [
    {
     "data": {
      "text/plain": [
       "((215284, 140), (92265, 140), (76888, 140))"
      ]
     },
     "execution_count": 68,
     "metadata": {},
     "output_type": "execute_result"
    }
   ],
   "source": [
    "X_train.shape, X_valid.shape, X_test.shape"
   ]
  },
  {
   "cell_type": "code",
   "execution_count": null,
   "metadata": {
    "collapsed": true
   },
   "outputs": [],
   "source": []
  },
  {
   "cell_type": "markdown",
   "metadata": {},
   "source": [
    "##### Logistic Regression\n",
    "\n",
    "Accuracy reaches 99.55%."
   ]
  },
  {
   "cell_type": "code",
   "execution_count": 69,
   "metadata": {
    "collapsed": true
   },
   "outputs": [],
   "source": [
    "from sklearn.preprocessing import StandardScaler\n",
    "scaler = StandardScaler()\n",
    "X_scaledTrain = scaler.fit_transform(X_train)\n",
    "X_scaledTest = scaler.fit_transform(X_test)\n",
    "X_scaledValid = scaler.fit_transform(X_valid)\n",
    "\n",
    "# Fit the data into model\n",
    "from sklearn.linear_model import LogisticRegression\n",
    "classifier = LogisticRegression(random_state = 1234)\n",
    "classifier.fit(X_scaledTrain, y_train)\n",
    "\n",
    "# Predict using test set\n",
    "y_pred = classifier.predict(X_scaledTest)\n",
    "y_predvalid = classifier.predict(X_scaledValid)\n",
    "\n",
    "# Get score metrics\n",
    "from sklearn.metrics import confusion_matrix,accuracy_score\n",
    "cm = confusion_matrix(y_test, y_pred)\n",
    "acuscore = accuracy_score(y_test, y_pred)"
   ]
  },
  {
   "cell_type": "code",
   "execution_count": 70,
   "metadata": {
    "collapsed": false
   },
   "outputs": [
    {
     "data": {
      "text/plain": [
       "0.995525959837686"
      ]
     },
     "execution_count": 70,
     "metadata": {},
     "output_type": "execute_result"
    }
   ],
   "source": [
    "acuscore"
   ]
  },
  {
   "cell_type": "code",
   "execution_count": 71,
   "metadata": {
    "collapsed": false
   },
   "outputs": [
    {
     "data": {
      "text/plain": [
       "0.9954982760666815"
      ]
     },
     "execution_count": 71,
     "metadata": {},
     "output_type": "execute_result"
    }
   ],
   "source": [
    "from sklearn.metrics import f1_score\n",
    "f1_score(y_test, y_pred, average='weighted')"
   ]
  },
  {
   "cell_type": "code",
   "execution_count": 72,
   "metadata": {
    "collapsed": false
   },
   "outputs": [
    {
     "name": "stdout",
     "output_type": "stream",
     "text": [
      "             precision    recall  f1-score   support\n",
      "\n",
      "          0       0.99      1.00      1.00     65307\n",
      "          1       1.00      0.97      0.98     11581\n",
      "\n",
      "avg / total       1.00      1.00      1.00     76888\n",
      "\n"
     ]
    }
   ],
   "source": [
    "from sklearn.metrics import classification_report\n",
    "print(classification_report(y_test, y_pred))"
   ]
  },
  {
   "cell_type": "markdown",
   "metadata": {},
   "source": [
    "##### XGBOOST:\n",
    "\n",
    "Accuracy reaches 99.66%.\n",
    "\n",
    "**Tree complexity: **\n",
    "* max_depth\n",
    "* min_child_weight\n",
    "* gamma\n",
    "\n",
    "**Schochastic gradient boosting: **\n",
    "* subsample: \n",
    "\n",
    "%sample, model will randomly select data to train for each tree in case of noises and outliers. Typically 0.7-1. For useful data, 1 is also possible since every data is valuable to model. However, for data with a lot outliers and noise, smaller subsample is reasonable.\n",
    "* colsample_bytree: \n",
    "\n",
    "%features, model will randomly select features to train for each tree. Typically 0.3 - 0.9. If data is sparse, then cbtree is smaller, if data is dense, then it should be larger.\n",
    "\n",
    "**Boosting: **\n",
    "\n",
    "* number of trees: how many trees or iteration we need. larger is better, however, existing a turning point that a model turns to overfitting.\n",
    "\n",
    "* learning rate: smaller leads to better result but more time-consuming. Use a higher learning rate to start, focus on tuning other parameters. Then decreasing learning rate to optimize the result. Typically 0.01 to 0.1.\n",
    "\n",
    "\n",
    "Here we use the average parameters."
   ]
  },
  {
   "cell_type": "code",
   "execution_count": 322,
   "metadata": {
    "collapsed": true
   },
   "outputs": [],
   "source": [
    "params = {\"objective\": \"binary:logistic\", \n",
    "          \"booster\" : \"gbtree\", \n",
    "          \"eta\": 0.05, # Learning rate\n",
    "          \"max_depth\": 6,  # Complexity of tree, Typical 3-10, more deep, more easy to over-fitting\n",
    "          \"subsample\": 0.7, \n",
    "          \"colsample_bytree\": 0.6,\n",
    "          #\"colsample_bylevel\": 0.6,\n",
    "          \"silent\": 1, \n",
    "          \"seed\": 1234, \n",
    "          \"eval_metric\": \"auc\",\n",
    "          \"gamma\": 1, # min loss reduction required to make a further partition on leaf node\n",
    "                       # penalize the complexity of tree\n",
    "                       # the larger, the more conservative the model will be\n",
    "                       # Typical 0 - 2\n",
    "          \"min_child_weight\": 5} # min sum of weights of all observation required in a child, or\n",
    "                                 # how many conditions we need to meet to keep split the next leaf(every leaf at least contains how many samples)\n",
    "                                 #  which prevents the model over-fitting or learn outliers values\n",
    "                                 # Typical 1-20\n",
    "                                 # Note: in other model, if we have min_child_number instead of weight, it may need to be adjusted if we switch to train a larger dataset transfering from a small one, since the larger dataset may need more leafs to split to get a better performance\n"
   ]
  },
  {
   "cell_type": "code",
   "execution_count": 397,
   "metadata": {
    "collapsed": true
   },
   "outputs": [],
   "source": [
    "dtrain = xgb.DMatrix(X_train, y_train)\n",
    "dvalid = xgb.DMatrix(X_valid, y_valid)\n",
    "dtest = xgb.DMatrix(X_test, y_test)"
   ]
  },
  {
   "cell_type": "code",
   "execution_count": 324,
   "metadata": {
    "collapsed": false
   },
   "outputs": [
    {
     "name": "stdout",
     "output_type": "stream",
     "text": [
      "[0]\ttrain-auc:0.957333\teval-auc:0.957454\n",
      "Multiple eval metrics have been passed: 'eval-auc' will be used for early stopping.\n",
      "\n",
      "Will train until eval-auc hasn't improved in 20 rounds.\n",
      "[1]\ttrain-auc:0.990052\teval-auc:0.990214\n",
      "[2]\ttrain-auc:0.991758\teval-auc:0.992092\n",
      "[3]\ttrain-auc:0.993069\teval-auc:0.993258\n",
      "[4]\ttrain-auc:0.992096\teval-auc:0.992267\n",
      "[5]\ttrain-auc:0.992278\teval-auc:0.9924\n",
      "[6]\ttrain-auc:0.992677\teval-auc:0.992821\n",
      "[7]\ttrain-auc:0.992935\teval-auc:0.993148\n",
      "[8]\ttrain-auc:0.993869\teval-auc:0.994103\n",
      "[9]\ttrain-auc:0.994001\teval-auc:0.994136\n",
      "[10]\ttrain-auc:0.993733\teval-auc:0.993954\n",
      "[11]\ttrain-auc:0.994098\teval-auc:0.994318\n",
      "[12]\ttrain-auc:0.99409\teval-auc:0.994311\n",
      "[13]\ttrain-auc:0.994625\teval-auc:0.99482\n",
      "[14]\ttrain-auc:0.994182\teval-auc:0.994377\n",
      "[15]\ttrain-auc:0.995173\teval-auc:0.995457\n",
      "[16]\ttrain-auc:0.995877\teval-auc:0.996165\n",
      "[17]\ttrain-auc:0.99563\teval-auc:0.995916\n",
      "[18]\ttrain-auc:0.99575\teval-auc:0.996048\n",
      "[19]\ttrain-auc:0.995616\teval-auc:0.995917\n",
      "[20]\ttrain-auc:0.995507\teval-auc:0.995842\n",
      "[21]\ttrain-auc:0.99573\teval-auc:0.996019\n",
      "[22]\ttrain-auc:0.995729\teval-auc:0.996003\n",
      "[23]\ttrain-auc:0.995725\teval-auc:0.996025\n",
      "[24]\ttrain-auc:0.995467\teval-auc:0.995782\n",
      "[25]\ttrain-auc:0.99597\teval-auc:0.996194\n",
      "[26]\ttrain-auc:0.996094\teval-auc:0.996294\n",
      "[27]\ttrain-auc:0.996254\teval-auc:0.996418\n",
      "[28]\ttrain-auc:0.99632\teval-auc:0.996472\n",
      "[29]\ttrain-auc:0.996277\teval-auc:0.996437\n",
      "[30]\ttrain-auc:0.996379\teval-auc:0.996523\n",
      "[31]\ttrain-auc:0.996581\teval-auc:0.996685\n",
      "[32]\ttrain-auc:0.99649\teval-auc:0.996599\n",
      "[33]\ttrain-auc:0.996547\teval-auc:0.996631\n",
      "[34]\ttrain-auc:0.99682\teval-auc:0.996863\n",
      "[35]\ttrain-auc:0.996949\teval-auc:0.997006\n",
      "[36]\ttrain-auc:0.997035\teval-auc:0.997081\n",
      "[37]\ttrain-auc:0.997142\teval-auc:0.997187\n",
      "[38]\ttrain-auc:0.997166\teval-auc:0.997202\n",
      "[39]\ttrain-auc:0.997214\teval-auc:0.997251\n",
      "[40]\ttrain-auc:0.997326\teval-auc:0.997333\n",
      "[41]\ttrain-auc:0.997316\teval-auc:0.997314\n",
      "[42]\ttrain-auc:0.997368\teval-auc:0.997351\n",
      "[43]\ttrain-auc:0.997516\teval-auc:0.997482\n",
      "[44]\ttrain-auc:0.997534\teval-auc:0.997497\n",
      "[45]\ttrain-auc:0.997567\teval-auc:0.997523\n",
      "[46]\ttrain-auc:0.997561\teval-auc:0.997509\n",
      "[47]\ttrain-auc:0.997703\teval-auc:0.99769\n",
      "[48]\ttrain-auc:0.997697\teval-auc:0.997675\n",
      "[49]\ttrain-auc:0.997774\teval-auc:0.997751\n",
      "[50]\ttrain-auc:0.997775\teval-auc:0.997747\n",
      "[51]\ttrain-auc:0.997836\teval-auc:0.997783\n",
      "[52]\ttrain-auc:0.997909\teval-auc:0.997854\n",
      "[53]\ttrain-auc:0.998029\teval-auc:0.997974\n",
      "[54]\ttrain-auc:0.998161\teval-auc:0.998127\n",
      "[55]\ttrain-auc:0.998181\teval-auc:0.998154\n",
      "[56]\ttrain-auc:0.998202\teval-auc:0.998174\n",
      "[57]\ttrain-auc:0.998188\teval-auc:0.998153\n",
      "[58]\ttrain-auc:0.998247\teval-auc:0.998227\n",
      "[59]\ttrain-auc:0.998301\teval-auc:0.998273\n",
      "[60]\ttrain-auc:0.998331\teval-auc:0.998297\n",
      "[61]\ttrain-auc:0.998326\teval-auc:0.998287\n",
      "[62]\ttrain-auc:0.998366\teval-auc:0.998326\n",
      "[63]\ttrain-auc:0.998467\teval-auc:0.998408\n",
      "[64]\ttrain-auc:0.998514\teval-auc:0.998465\n",
      "[65]\ttrain-auc:0.998581\teval-auc:0.998525\n",
      "[66]\ttrain-auc:0.998637\teval-auc:0.998587\n",
      "[67]\ttrain-auc:0.998642\teval-auc:0.998587\n",
      "[68]\ttrain-auc:0.998704\teval-auc:0.998644\n",
      "[69]\ttrain-auc:0.998708\teval-auc:0.998646\n",
      "[70]\ttrain-auc:0.998747\teval-auc:0.998683\n",
      "[71]\ttrain-auc:0.998752\teval-auc:0.998689\n",
      "[72]\ttrain-auc:0.998786\teval-auc:0.998725\n",
      "[73]\ttrain-auc:0.998801\teval-auc:0.998732\n",
      "[74]\ttrain-auc:0.998843\teval-auc:0.99877\n",
      "[75]\ttrain-auc:0.998894\teval-auc:0.998819\n",
      "[76]\ttrain-auc:0.998894\teval-auc:0.998819\n",
      "[77]\ttrain-auc:0.998901\teval-auc:0.998829\n",
      "[78]\ttrain-auc:0.998904\teval-auc:0.998827\n",
      "[79]\ttrain-auc:0.998928\teval-auc:0.998839\n",
      "[80]\ttrain-auc:0.998957\teval-auc:0.998877\n",
      "[81]\ttrain-auc:0.998995\teval-auc:0.998913\n",
      "[82]\ttrain-auc:0.999023\teval-auc:0.998933\n",
      "[83]\ttrain-auc:0.999034\teval-auc:0.998948\n",
      "[84]\ttrain-auc:0.999054\teval-auc:0.998968\n",
      "[85]\ttrain-auc:0.999077\teval-auc:0.998998\n",
      "[86]\ttrain-auc:0.999085\teval-auc:0.999\n",
      "[87]\ttrain-auc:0.99909\teval-auc:0.998999\n",
      "[88]\ttrain-auc:0.99912\teval-auc:0.999023\n",
      "[89]\ttrain-auc:0.99913\teval-auc:0.999029\n",
      "[90]\ttrain-auc:0.999125\teval-auc:0.999025\n",
      "[91]\ttrain-auc:0.999128\teval-auc:0.999025\n",
      "[92]\ttrain-auc:0.999148\teval-auc:0.999043\n",
      "[93]\ttrain-auc:0.999142\teval-auc:0.999036\n",
      "[94]\ttrain-auc:0.999144\teval-auc:0.999041\n",
      "[95]\ttrain-auc:0.999165\teval-auc:0.999061\n",
      "[96]\ttrain-auc:0.999181\teval-auc:0.999078\n",
      "[97]\ttrain-auc:0.999183\teval-auc:0.999077\n",
      "[98]\ttrain-auc:0.999201\teval-auc:0.9991\n",
      "[99]\ttrain-auc:0.999222\teval-auc:0.999118\n",
      "[100]\ttrain-auc:0.999229\teval-auc:0.999126\n",
      "[101]\ttrain-auc:0.999235\teval-auc:0.999129\n",
      "[102]\ttrain-auc:0.999241\teval-auc:0.999133\n",
      "[103]\ttrain-auc:0.999262\teval-auc:0.999153\n",
      "[104]\ttrain-auc:0.999268\teval-auc:0.999157\n",
      "[105]\ttrain-auc:0.999274\teval-auc:0.999159\n",
      "[106]\ttrain-auc:0.999293\teval-auc:0.999179\n",
      "[107]\ttrain-auc:0.999295\teval-auc:0.999184\n",
      "[108]\ttrain-auc:0.999311\teval-auc:0.9992\n",
      "[109]\ttrain-auc:0.999327\teval-auc:0.999211\n",
      "[110]\ttrain-auc:0.999344\teval-auc:0.999228\n",
      "[111]\ttrain-auc:0.999358\teval-auc:0.999237\n",
      "[112]\ttrain-auc:0.999361\teval-auc:0.99924\n",
      "[113]\ttrain-auc:0.999372\teval-auc:0.999249\n",
      "[114]\ttrain-auc:0.999378\teval-auc:0.999253\n",
      "[115]\ttrain-auc:0.999385\teval-auc:0.999259\n",
      "[116]\ttrain-auc:0.99939\teval-auc:0.999262\n",
      "[117]\ttrain-auc:0.999397\teval-auc:0.999268\n",
      "[118]\ttrain-auc:0.999406\teval-auc:0.999277\n",
      "[119]\ttrain-auc:0.999407\teval-auc:0.999277\n",
      "[120]\ttrain-auc:0.99942\teval-auc:0.999289\n",
      "[121]\ttrain-auc:0.999421\teval-auc:0.999288\n",
      "[122]\ttrain-auc:0.99942\teval-auc:0.999289\n",
      "[123]\ttrain-auc:0.999423\teval-auc:0.99929\n",
      "[124]\ttrain-auc:0.999422\teval-auc:0.99929\n",
      "[125]\ttrain-auc:0.999428\teval-auc:0.999297\n",
      "[126]\ttrain-auc:0.999442\teval-auc:0.999309\n",
      "[127]\ttrain-auc:0.999446\teval-auc:0.999313\n",
      "[128]\ttrain-auc:0.999447\teval-auc:0.999316\n",
      "[129]\ttrain-auc:0.999454\teval-auc:0.999323\n",
      "[130]\ttrain-auc:0.999465\teval-auc:0.999332\n",
      "[131]\ttrain-auc:0.999465\teval-auc:0.999332\n",
      "[132]\ttrain-auc:0.999465\teval-auc:0.999333\n",
      "[133]\ttrain-auc:0.999475\teval-auc:0.999342\n",
      "[134]\ttrain-auc:0.99948\teval-auc:0.999347\n",
      "[135]\ttrain-auc:0.999482\teval-auc:0.999347\n",
      "[136]\ttrain-auc:0.999497\teval-auc:0.99937\n",
      "[137]\ttrain-auc:0.999514\teval-auc:0.999383\n",
      "[138]\ttrain-auc:0.999517\teval-auc:0.999389\n",
      "[139]\ttrain-auc:0.99953\teval-auc:0.999399\n",
      "[140]\ttrain-auc:0.999532\teval-auc:0.999403\n",
      "[141]\ttrain-auc:0.999542\teval-auc:0.999411\n",
      "[142]\ttrain-auc:0.999548\teval-auc:0.999417\n",
      "[143]\ttrain-auc:0.999555\teval-auc:0.999424\n",
      "[144]\ttrain-auc:0.999557\teval-auc:0.999427\n",
      "[145]\ttrain-auc:0.999564\teval-auc:0.999433\n",
      "[146]\ttrain-auc:0.999564\teval-auc:0.999431\n",
      "[147]\ttrain-auc:0.99957\teval-auc:0.999437\n",
      "[148]\ttrain-auc:0.999568\teval-auc:0.999435\n",
      "[149]\ttrain-auc:0.999568\teval-auc:0.999436\n",
      "[150]\ttrain-auc:0.999574\teval-auc:0.99944\n",
      "[151]\ttrain-auc:0.999575\teval-auc:0.999443\n",
      "[152]\ttrain-auc:0.999583\teval-auc:0.99945\n",
      "[153]\ttrain-auc:0.999588\teval-auc:0.999454\n",
      "[154]\ttrain-auc:0.999597\teval-auc:0.999458\n",
      "[155]\ttrain-auc:0.999601\teval-auc:0.999462\n",
      "[156]\ttrain-auc:0.999604\teval-auc:0.999464\n",
      "[157]\ttrain-auc:0.999606\teval-auc:0.999466\n",
      "[158]\ttrain-auc:0.999616\teval-auc:0.999474\n",
      "[159]\ttrain-auc:0.999618\teval-auc:0.999477\n",
      "[160]\ttrain-auc:0.999625\teval-auc:0.999486\n",
      "[161]\ttrain-auc:0.999627\teval-auc:0.999485\n",
      "[162]\ttrain-auc:0.999632\teval-auc:0.999491\n",
      "[163]\ttrain-auc:0.999636\teval-auc:0.999495\n",
      "[164]\ttrain-auc:0.999641\teval-auc:0.999502\n",
      "[165]\ttrain-auc:0.999644\teval-auc:0.999504\n",
      "[166]\ttrain-auc:0.999645\teval-auc:0.999505\n",
      "[167]\ttrain-auc:0.999647\teval-auc:0.999507\n",
      "[168]\ttrain-auc:0.999653\teval-auc:0.999511\n",
      "[169]\ttrain-auc:0.999662\teval-auc:0.99952\n",
      "[170]\ttrain-auc:0.99967\teval-auc:0.999524\n",
      "[171]\ttrain-auc:0.99967\teval-auc:0.999524\n",
      "[172]\ttrain-auc:0.999679\teval-auc:0.999531\n",
      "[173]\ttrain-auc:0.999685\teval-auc:0.999532\n",
      "[174]\ttrain-auc:0.999684\teval-auc:0.999533\n",
      "[175]\ttrain-auc:0.999687\teval-auc:0.999538\n",
      "[176]\ttrain-auc:0.99969\teval-auc:0.99954\n",
      "[177]\ttrain-auc:0.999698\teval-auc:0.999548\n",
      "[178]\ttrain-auc:0.999707\teval-auc:0.999558\n",
      "[179]\ttrain-auc:0.999711\teval-auc:0.999566\n",
      "[180]\ttrain-auc:0.999712\teval-auc:0.999571\n",
      "[181]\ttrain-auc:0.999713\teval-auc:0.999574\n",
      "[182]\ttrain-auc:0.999716\teval-auc:0.999578\n",
      "[183]\ttrain-auc:0.99972\teval-auc:0.999582\n",
      "[184]\ttrain-auc:0.999725\teval-auc:0.999589\n",
      "[185]\ttrain-auc:0.999727\teval-auc:0.999591\n",
      "[186]\ttrain-auc:0.999728\teval-auc:0.999592\n",
      "[187]\ttrain-auc:0.99973\teval-auc:0.999595\n",
      "[188]\ttrain-auc:0.999735\teval-auc:0.999599\n",
      "[189]\ttrain-auc:0.999737\teval-auc:0.999601\n",
      "[190]\ttrain-auc:0.999737\teval-auc:0.999602\n",
      "[191]\ttrain-auc:0.99974\teval-auc:0.999605\n",
      "[192]\ttrain-auc:0.999744\teval-auc:0.999607\n",
      "[193]\ttrain-auc:0.999749\teval-auc:0.999616\n",
      "[194]\ttrain-auc:0.999749\teval-auc:0.999616\n",
      "[195]\ttrain-auc:0.999753\teval-auc:0.999619\n",
      "[196]\ttrain-auc:0.999756\teval-auc:0.999621\n",
      "[197]\ttrain-auc:0.999762\teval-auc:0.999625\n",
      "[198]\ttrain-auc:0.999764\teval-auc:0.999625\n",
      "[199]\ttrain-auc:0.999769\teval-auc:0.999629\n",
      "[200]\ttrain-auc:0.999769\teval-auc:0.999629\n",
      "[201]\ttrain-auc:0.999771\teval-auc:0.999633\n",
      "[202]\ttrain-auc:0.999775\teval-auc:0.999635\n",
      "[203]\ttrain-auc:0.999777\teval-auc:0.999637\n",
      "[204]\ttrain-auc:0.999777\teval-auc:0.999637\n",
      "[205]\ttrain-auc:0.999779\teval-auc:0.999646\n",
      "[206]\ttrain-auc:0.99978\teval-auc:0.999649\n",
      "[207]\ttrain-auc:0.999782\teval-auc:0.999648\n",
      "[208]\ttrain-auc:0.999782\teval-auc:0.99965\n",
      "[209]\ttrain-auc:0.999784\teval-auc:0.999651\n",
      "[210]\ttrain-auc:0.999784\teval-auc:0.999652\n",
      "[211]\ttrain-auc:0.999787\teval-auc:0.999654\n",
      "[212]\ttrain-auc:0.99979\teval-auc:0.99966\n",
      "[213]\ttrain-auc:0.999791\teval-auc:0.99966\n",
      "[214]\ttrain-auc:0.999791\teval-auc:0.999661\n",
      "[215]\ttrain-auc:0.999792\teval-auc:0.999662\n",
      "[216]\ttrain-auc:0.999794\teval-auc:0.999663\n",
      "[217]\ttrain-auc:0.999795\teval-auc:0.999665\n",
      "[218]\ttrain-auc:0.999797\teval-auc:0.999665\n",
      "[219]\ttrain-auc:0.999799\teval-auc:0.999666\n",
      "[220]\ttrain-auc:0.9998\teval-auc:0.999666\n",
      "[221]\ttrain-auc:0.999801\teval-auc:0.999667\n",
      "[222]\ttrain-auc:0.999802\teval-auc:0.99967\n",
      "[223]\ttrain-auc:0.999806\teval-auc:0.999674\n",
      "[224]\ttrain-auc:0.999807\teval-auc:0.999676\n",
      "[225]\ttrain-auc:0.999809\teval-auc:0.999677\n",
      "[226]\ttrain-auc:0.99981\teval-auc:0.999678\n",
      "[227]\ttrain-auc:0.999811\teval-auc:0.999678\n",
      "[228]\ttrain-auc:0.999813\teval-auc:0.99968\n",
      "[229]\ttrain-auc:0.999815\teval-auc:0.999684\n",
      "[230]\ttrain-auc:0.999817\teval-auc:0.999687\n",
      "[231]\ttrain-auc:0.999818\teval-auc:0.99969\n",
      "[232]\ttrain-auc:0.999819\teval-auc:0.999689\n",
      "[233]\ttrain-auc:0.99982\teval-auc:0.999691\n",
      "[234]\ttrain-auc:0.99982\teval-auc:0.999689\n",
      "[235]\ttrain-auc:0.999821\teval-auc:0.999691\n",
      "[236]\ttrain-auc:0.999822\teval-auc:0.999692\n",
      "[237]\ttrain-auc:0.999823\teval-auc:0.999692\n",
      "[238]\ttrain-auc:0.999826\teval-auc:0.999694\n",
      "[239]\ttrain-auc:0.999826\teval-auc:0.999694\n",
      "[240]\ttrain-auc:0.999827\teval-auc:0.999696\n",
      "[241]\ttrain-auc:0.99983\teval-auc:0.999701\n",
      "[242]\ttrain-auc:0.99983\teval-auc:0.999704\n",
      "[243]\ttrain-auc:0.999832\teval-auc:0.999705\n",
      "[244]\ttrain-auc:0.999834\teval-auc:0.999706\n",
      "[245]\ttrain-auc:0.999837\teval-auc:0.999707\n",
      "[246]\ttrain-auc:0.999838\teval-auc:0.999708\n",
      "[247]\ttrain-auc:0.999839\teval-auc:0.99971\n",
      "[248]\ttrain-auc:0.99984\teval-auc:0.999712\n",
      "[249]\ttrain-auc:0.999841\teval-auc:0.999711\n",
      "[250]\ttrain-auc:0.999842\teval-auc:0.999713\n",
      "[251]\ttrain-auc:0.999843\teval-auc:0.999714\n",
      "[252]\ttrain-auc:0.999844\teval-auc:0.999716\n",
      "[253]\ttrain-auc:0.999845\teval-auc:0.999716\n",
      "[254]\ttrain-auc:0.999845\teval-auc:0.999716\n",
      "[255]\ttrain-auc:0.999847\teval-auc:0.999718\n",
      "[256]\ttrain-auc:0.999848\teval-auc:0.999718\n",
      "[257]\ttrain-auc:0.99985\teval-auc:0.999721\n",
      "[258]\ttrain-auc:0.999851\teval-auc:0.99972\n",
      "[259]\ttrain-auc:0.999852\teval-auc:0.999719\n",
      "[260]\ttrain-auc:0.999854\teval-auc:0.999719\n",
      "[261]\ttrain-auc:0.999855\teval-auc:0.999721\n",
      "[262]\ttrain-auc:0.999857\teval-auc:0.999721\n",
      "[263]\ttrain-auc:0.999859\teval-auc:0.999723\n",
      "[264]\ttrain-auc:0.999859\teval-auc:0.999724\n",
      "[265]\ttrain-auc:0.999861\teval-auc:0.999726\n",
      "[266]\ttrain-auc:0.999863\teval-auc:0.99973\n",
      "[267]\ttrain-auc:0.999864\teval-auc:0.999731\n",
      "[268]\ttrain-auc:0.999865\teval-auc:0.999731\n",
      "[269]\ttrain-auc:0.999866\teval-auc:0.999732\n",
      "[270]\ttrain-auc:0.999867\teval-auc:0.999732\n",
      "[271]\ttrain-auc:0.999867\teval-auc:0.999733\n",
      "[272]\ttrain-auc:0.999868\teval-auc:0.999734\n",
      "[273]\ttrain-auc:0.999869\teval-auc:0.999734\n",
      "[274]\ttrain-auc:0.999869\teval-auc:0.999735\n",
      "[275]\ttrain-auc:0.999871\teval-auc:0.999735\n",
      "[276]\ttrain-auc:0.999871\teval-auc:0.999736\n",
      "[277]\ttrain-auc:0.999872\teval-auc:0.999739\n",
      "[278]\ttrain-auc:0.999873\teval-auc:0.999741\n",
      "[279]\ttrain-auc:0.999874\teval-auc:0.999741\n",
      "[280]\ttrain-auc:0.999875\teval-auc:0.999742\n",
      "[281]\ttrain-auc:0.999876\teval-auc:0.999744\n",
      "[282]\ttrain-auc:0.999876\teval-auc:0.999745\n",
      "[283]\ttrain-auc:0.999877\teval-auc:0.999746\n",
      "[284]\ttrain-auc:0.999878\teval-auc:0.999746\n",
      "[285]\ttrain-auc:0.999878\teval-auc:0.999746\n",
      "[286]\ttrain-auc:0.99988\teval-auc:0.999747\n",
      "[287]\ttrain-auc:0.999882\teval-auc:0.999748\n",
      "[288]\ttrain-auc:0.999885\teval-auc:0.999754\n",
      "[289]\ttrain-auc:0.999886\teval-auc:0.999756\n",
      "[290]\ttrain-auc:0.999887\teval-auc:0.999758\n",
      "[291]\ttrain-auc:0.999888\teval-auc:0.999758\n",
      "[292]\ttrain-auc:0.999889\teval-auc:0.999757\n",
      "[293]\ttrain-auc:0.99989\teval-auc:0.999756\n",
      "[294]\ttrain-auc:0.999891\teval-auc:0.999757\n",
      "[295]\ttrain-auc:0.999891\teval-auc:0.999756\n",
      "[296]\ttrain-auc:0.999893\teval-auc:0.999756\n",
      "[297]\ttrain-auc:0.999893\teval-auc:0.999757\n",
      "[298]\ttrain-auc:0.999894\teval-auc:0.999759\n",
      "[299]\ttrain-auc:0.999895\teval-auc:0.999761\n",
      "[300]\ttrain-auc:0.999895\teval-auc:0.999763\n",
      "[301]\ttrain-auc:0.999896\teval-auc:0.999764\n",
      "[302]\ttrain-auc:0.999896\teval-auc:0.999766\n",
      "[303]\ttrain-auc:0.999897\teval-auc:0.999767\n",
      "[304]\ttrain-auc:0.999898\teval-auc:0.999768\n",
      "[305]\ttrain-auc:0.999898\teval-auc:0.999768\n",
      "[306]\ttrain-auc:0.999898\teval-auc:0.99977\n",
      "[307]\ttrain-auc:0.999899\teval-auc:0.99977\n",
      "[308]\ttrain-auc:0.9999\teval-auc:0.999771\n",
      "[309]\ttrain-auc:0.9999\teval-auc:0.999772\n",
      "[310]\ttrain-auc:0.999901\teval-auc:0.999773\n",
      "[311]\ttrain-auc:0.999902\teval-auc:0.999774\n",
      "[312]\ttrain-auc:0.999902\teval-auc:0.999774\n",
      "[313]\ttrain-auc:0.999902\teval-auc:0.999775\n",
      "[314]\ttrain-auc:0.999903\teval-auc:0.999775\n",
      "[315]\ttrain-auc:0.999904\teval-auc:0.999777\n",
      "[316]\ttrain-auc:0.999905\teval-auc:0.999777\n",
      "[317]\ttrain-auc:0.999906\teval-auc:0.999777\n",
      "[318]\ttrain-auc:0.999908\teval-auc:0.999779\n",
      "[319]\ttrain-auc:0.999909\teval-auc:0.99978\n",
      "[320]\ttrain-auc:0.999909\teval-auc:0.999782\n",
      "[321]\ttrain-auc:0.99991\teval-auc:0.999783\n",
      "[322]\ttrain-auc:0.999911\teval-auc:0.999782\n",
      "[323]\ttrain-auc:0.999913\teval-auc:0.999783\n",
      "[324]\ttrain-auc:0.999913\teval-auc:0.999784\n",
      "[325]\ttrain-auc:0.999914\teval-auc:0.999784\n",
      "[326]\ttrain-auc:0.999914\teval-auc:0.999783\n",
      "[327]\ttrain-auc:0.999915\teval-auc:0.999784\n",
      "[328]\ttrain-auc:0.999915\teval-auc:0.999784\n",
      "[329]\ttrain-auc:0.999915\teval-auc:0.999784\n",
      "[330]\ttrain-auc:0.999916\teval-auc:0.999783\n",
      "[331]\ttrain-auc:0.999916\teval-auc:0.999784\n",
      "[332]\ttrain-auc:0.999917\teval-auc:0.999784\n",
      "[333]\ttrain-auc:0.999917\teval-auc:0.999785\n",
      "[334]\ttrain-auc:0.999918\teval-auc:0.999785\n",
      "[335]\ttrain-auc:0.999918\teval-auc:0.999786\n",
      "[336]\ttrain-auc:0.999918\teval-auc:0.999786\n",
      "[337]\ttrain-auc:0.999919\teval-auc:0.999786\n",
      "[338]\ttrain-auc:0.99992\teval-auc:0.999785\n",
      "[339]\ttrain-auc:0.99992\teval-auc:0.999786\n",
      "[340]\ttrain-auc:0.999922\teval-auc:0.999785\n",
      "[341]\ttrain-auc:0.999922\teval-auc:0.999786\n",
      "[342]\ttrain-auc:0.999922\teval-auc:0.999787\n",
      "[343]\ttrain-auc:0.999923\teval-auc:0.999788\n",
      "[344]\ttrain-auc:0.999924\teval-auc:0.999789\n",
      "[345]\ttrain-auc:0.999924\teval-auc:0.999789\n",
      "[346]\ttrain-auc:0.999926\teval-auc:0.999789\n",
      "[347]\ttrain-auc:0.999926\teval-auc:0.999789\n",
      "[348]\ttrain-auc:0.999927\teval-auc:0.999788\n",
      "[349]\ttrain-auc:0.999927\teval-auc:0.999789\n",
      "[350]\ttrain-auc:0.999928\teval-auc:0.99979\n",
      "[351]\ttrain-auc:0.999929\teval-auc:0.999792\n",
      "[352]\ttrain-auc:0.99993\teval-auc:0.999791\n",
      "[353]\ttrain-auc:0.99993\teval-auc:0.999793\n",
      "[354]\ttrain-auc:0.999931\teval-auc:0.999793\n",
      "[355]\ttrain-auc:0.999931\teval-auc:0.999793\n",
      "[356]\ttrain-auc:0.999931\teval-auc:0.999794\n",
      "[357]\ttrain-auc:0.999931\teval-auc:0.999795\n",
      "[358]\ttrain-auc:0.999932\teval-auc:0.999796\n",
      "[359]\ttrain-auc:0.999933\teval-auc:0.999798\n",
      "[360]\ttrain-auc:0.999933\teval-auc:0.999798\n",
      "[361]\ttrain-auc:0.999933\teval-auc:0.999798\n",
      "[362]\ttrain-auc:0.999933\teval-auc:0.999798\n",
      "[363]\ttrain-auc:0.999934\teval-auc:0.999797\n",
      "[364]\ttrain-auc:0.999934\teval-auc:0.999798\n",
      "[365]\ttrain-auc:0.999935\teval-auc:0.999797\n",
      "[366]\ttrain-auc:0.999936\teval-auc:0.9998\n",
      "[367]\ttrain-auc:0.999936\teval-auc:0.999798\n",
      "[368]\ttrain-auc:0.999937\teval-auc:0.999799\n",
      "[369]\ttrain-auc:0.999938\teval-auc:0.999799\n",
      "[370]\ttrain-auc:0.999938\teval-auc:0.999799\n",
      "[371]\ttrain-auc:0.999938\teval-auc:0.999799\n",
      "[372]\ttrain-auc:0.999938\teval-auc:0.999799\n",
      "[373]\ttrain-auc:0.999939\teval-auc:0.999799\n",
      "[374]\ttrain-auc:0.99994\teval-auc:0.999799\n",
      "[375]\ttrain-auc:0.99994\teval-auc:0.999798\n",
      "[376]\ttrain-auc:0.99994\teval-auc:0.999799\n",
      "[377]\ttrain-auc:0.999941\teval-auc:0.999799\n",
      "[378]\ttrain-auc:0.999941\teval-auc:0.999801\n",
      "[379]\ttrain-auc:0.999942\teval-auc:0.999801\n",
      "[380]\ttrain-auc:0.999942\teval-auc:0.999802\n",
      "[381]\ttrain-auc:0.999942\teval-auc:0.999802\n",
      "[382]\ttrain-auc:0.999943\teval-auc:0.999803\n",
      "[383]\ttrain-auc:0.999944\teval-auc:0.999804\n",
      "[384]\ttrain-auc:0.999944\teval-auc:0.999805\n",
      "[385]\ttrain-auc:0.999945\teval-auc:0.999806\n",
      "[386]\ttrain-auc:0.999945\teval-auc:0.999806\n",
      "[387]\ttrain-auc:0.999945\teval-auc:0.999806\n",
      "[388]\ttrain-auc:0.999946\teval-auc:0.999807\n",
      "[389]\ttrain-auc:0.999946\teval-auc:0.999808\n",
      "[390]\ttrain-auc:0.999946\teval-auc:0.999808\n",
      "[391]\ttrain-auc:0.999947\teval-auc:0.999809\n",
      "[392]\ttrain-auc:0.999947\teval-auc:0.999809\n",
      "[393]\ttrain-auc:0.999948\teval-auc:0.99981\n",
      "[394]\ttrain-auc:0.999949\teval-auc:0.999808\n",
      "[395]\ttrain-auc:0.999949\teval-auc:0.999808\n",
      "[396]\ttrain-auc:0.999949\teval-auc:0.999808\n",
      "[397]\ttrain-auc:0.999949\teval-auc:0.999809\n",
      "[398]\ttrain-auc:0.999949\teval-auc:0.999808\n",
      "[399]\ttrain-auc:0.99995\teval-auc:0.999809\n",
      "[400]\ttrain-auc:0.99995\teval-auc:0.999811\n",
      "[401]\ttrain-auc:0.99995\teval-auc:0.999812\n",
      "[402]\ttrain-auc:0.99995\teval-auc:0.999812\n",
      "[403]\ttrain-auc:0.999951\teval-auc:0.999812\n",
      "[404]\ttrain-auc:0.999951\teval-auc:0.999813\n",
      "[405]\ttrain-auc:0.999952\teval-auc:0.999813\n",
      "[406]\ttrain-auc:0.999952\teval-auc:0.999813\n",
      "[407]\ttrain-auc:0.999952\teval-auc:0.999813\n",
      "[408]\ttrain-auc:0.999952\teval-auc:0.999814\n",
      "[409]\ttrain-auc:0.999952\teval-auc:0.999813\n",
      "[410]\ttrain-auc:0.999953\teval-auc:0.999813\n",
      "[411]\ttrain-auc:0.999953\teval-auc:0.999813\n",
      "[412]\ttrain-auc:0.999954\teval-auc:0.999813\n",
      "[413]\ttrain-auc:0.999954\teval-auc:0.999813\n",
      "[414]\ttrain-auc:0.999954\teval-auc:0.999812\n",
      "[415]\ttrain-auc:0.999954\teval-auc:0.999813\n",
      "[416]\ttrain-auc:0.999955\teval-auc:0.999812\n",
      "[417]\ttrain-auc:0.999955\teval-auc:0.999813\n",
      "[418]\ttrain-auc:0.999956\teval-auc:0.999813\n",
      "[419]\ttrain-auc:0.999956\teval-auc:0.999814\n",
      "[420]\ttrain-auc:0.999957\teval-auc:0.999814\n",
      "[421]\ttrain-auc:0.999957\teval-auc:0.999814\n",
      "[422]\ttrain-auc:0.999957\teval-auc:0.999816\n",
      "[423]\ttrain-auc:0.999958\teval-auc:0.999815\n",
      "[424]\ttrain-auc:0.999958\teval-auc:0.999816\n",
      "[425]\ttrain-auc:0.999958\teval-auc:0.999817\n",
      "[426]\ttrain-auc:0.999958\teval-auc:0.999817\n",
      "[427]\ttrain-auc:0.999959\teval-auc:0.999818\n",
      "[428]\ttrain-auc:0.999959\teval-auc:0.999819\n",
      "[429]\ttrain-auc:0.99996\teval-auc:0.99982\n",
      "[430]\ttrain-auc:0.99996\teval-auc:0.99982\n",
      "[431]\ttrain-auc:0.999961\teval-auc:0.99982\n",
      "[432]\ttrain-auc:0.999961\teval-auc:0.999821\n",
      "[433]\ttrain-auc:0.999961\teval-auc:0.999821\n",
      "[434]\ttrain-auc:0.999961\teval-auc:0.999821\n",
      "[435]\ttrain-auc:0.999962\teval-auc:0.99982\n",
      "[436]\ttrain-auc:0.999962\teval-auc:0.999821\n",
      "[437]\ttrain-auc:0.999962\teval-auc:0.99982\n",
      "[438]\ttrain-auc:0.999962\teval-auc:0.99982\n",
      "[439]\ttrain-auc:0.999962\teval-auc:0.99982\n",
      "[440]\ttrain-auc:0.999963\teval-auc:0.999821\n",
      "[441]\ttrain-auc:0.999963\teval-auc:0.999821\n",
      "[442]\ttrain-auc:0.999963\teval-auc:0.999822\n",
      "[443]\ttrain-auc:0.999963\teval-auc:0.999822\n",
      "[444]\ttrain-auc:0.999963\teval-auc:0.999823\n",
      "[445]\ttrain-auc:0.999964\teval-auc:0.999823\n",
      "[446]\ttrain-auc:0.999964\teval-auc:0.999823\n",
      "[447]\ttrain-auc:0.999964\teval-auc:0.999823\n",
      "[448]\ttrain-auc:0.999964\teval-auc:0.999823\n",
      "[449]\ttrain-auc:0.999964\teval-auc:0.999822\n",
      "[450]\ttrain-auc:0.999965\teval-auc:0.999822\n",
      "[451]\ttrain-auc:0.999965\teval-auc:0.999821\n",
      "[452]\ttrain-auc:0.999965\teval-auc:0.999822\n",
      "[453]\ttrain-auc:0.999966\teval-auc:0.999824\n",
      "[454]\ttrain-auc:0.999966\teval-auc:0.999823\n",
      "[455]\ttrain-auc:0.999966\teval-auc:0.999823\n",
      "[456]\ttrain-auc:0.999967\teval-auc:0.999823\n",
      "[457]\ttrain-auc:0.999967\teval-auc:0.999824\n",
      "[458]\ttrain-auc:0.999967\teval-auc:0.999825\n",
      "[459]\ttrain-auc:0.999967\teval-auc:0.999825\n",
      "[460]\ttrain-auc:0.999967\teval-auc:0.999827\n",
      "[461]\ttrain-auc:0.999968\teval-auc:0.999827\n",
      "[462]\ttrain-auc:0.999968\teval-auc:0.999826\n",
      "[463]\ttrain-auc:0.999968\teval-auc:0.999827\n",
      "[464]\ttrain-auc:0.999968\teval-auc:0.999827\n",
      "[465]\ttrain-auc:0.999969\teval-auc:0.999826\n",
      "[466]\ttrain-auc:0.999969\teval-auc:0.999827\n",
      "[467]\ttrain-auc:0.999969\teval-auc:0.999827\n",
      "[468]\ttrain-auc:0.999969\teval-auc:0.999828\n",
      "[469]\ttrain-auc:0.99997\teval-auc:0.999828\n",
      "[470]\ttrain-auc:0.99997\teval-auc:0.999828\n",
      "[471]\ttrain-auc:0.99997\teval-auc:0.999827\n",
      "[472]\ttrain-auc:0.999971\teval-auc:0.999827\n",
      "[473]\ttrain-auc:0.999971\teval-auc:0.999827\n",
      "[474]\ttrain-auc:0.999971\teval-auc:0.999828\n",
      "[475]\ttrain-auc:0.999972\teval-auc:0.999828\n",
      "[476]\ttrain-auc:0.999972\teval-auc:0.999828\n",
      "[477]\ttrain-auc:0.999972\teval-auc:0.999829\n",
      "[478]\ttrain-auc:0.999973\teval-auc:0.999828\n",
      "[479]\ttrain-auc:0.999973\teval-auc:0.999828\n",
      "[480]\ttrain-auc:0.999973\teval-auc:0.999829\n",
      "[481]\ttrain-auc:0.999973\teval-auc:0.99983\n",
      "[482]\ttrain-auc:0.999973\teval-auc:0.99983\n",
      "[483]\ttrain-auc:0.999974\teval-auc:0.999829\n",
      "[484]\ttrain-auc:0.999974\teval-auc:0.99983\n",
      "[485]\ttrain-auc:0.999974\teval-auc:0.999831\n",
      "[486]\ttrain-auc:0.999974\teval-auc:0.999832\n",
      "[487]\ttrain-auc:0.999974\teval-auc:0.999832\n",
      "[488]\ttrain-auc:0.999975\teval-auc:0.999832\n",
      "[489]\ttrain-auc:0.999975\teval-auc:0.999833\n",
      "[490]\ttrain-auc:0.999975\teval-auc:0.999832\n",
      "[491]\ttrain-auc:0.999976\teval-auc:0.999833\n",
      "[492]\ttrain-auc:0.999976\teval-auc:0.999833\n",
      "[493]\ttrain-auc:0.999976\teval-auc:0.999833\n",
      "[494]\ttrain-auc:0.999977\teval-auc:0.999832\n",
      "[495]\ttrain-auc:0.999977\teval-auc:0.999834\n",
      "[496]\ttrain-auc:0.999977\teval-auc:0.999834\n",
      "[497]\ttrain-auc:0.999977\teval-auc:0.999833\n",
      "[498]\ttrain-auc:0.999978\teval-auc:0.999834\n",
      "[499]\ttrain-auc:0.999978\teval-auc:0.999834\n",
      "[500]\ttrain-auc:0.999978\teval-auc:0.999835\n",
      "[501]\ttrain-auc:0.999978\teval-auc:0.999835\n",
      "[502]\ttrain-auc:0.999978\teval-auc:0.999835\n",
      "[503]\ttrain-auc:0.999978\teval-auc:0.999836\n",
      "[504]\ttrain-auc:0.999979\teval-auc:0.999835\n",
      "[505]\ttrain-auc:0.999979\teval-auc:0.999836\n",
      "[506]\ttrain-auc:0.999979\teval-auc:0.999835\n",
      "[507]\ttrain-auc:0.999979\teval-auc:0.999835\n",
      "[508]\ttrain-auc:0.999979\teval-auc:0.999835\n",
      "[509]\ttrain-auc:0.999979\teval-auc:0.999835\n",
      "[510]\ttrain-auc:0.999979\teval-auc:0.999835\n",
      "[511]\ttrain-auc:0.999979\teval-auc:0.999835\n",
      "[512]\ttrain-auc:0.99998\teval-auc:0.999835\n",
      "[513]\ttrain-auc:0.99998\teval-auc:0.999835\n",
      "[514]\ttrain-auc:0.99998\teval-auc:0.999835\n",
      "[515]\ttrain-auc:0.99998\teval-auc:0.999835\n",
      "[516]\ttrain-auc:0.99998\teval-auc:0.999835\n",
      "[517]\ttrain-auc:0.99998\teval-auc:0.999834\n",
      "[518]\ttrain-auc:0.99998\teval-auc:0.999835\n",
      "[519]\ttrain-auc:0.99998\teval-auc:0.999836\n",
      "[520]\ttrain-auc:0.999981\teval-auc:0.999836\n",
      "[521]\ttrain-auc:0.999981\teval-auc:0.999835\n",
      "[522]\ttrain-auc:0.999981\teval-auc:0.999836\n",
      "[523]\ttrain-auc:0.999981\teval-auc:0.999836\n",
      "Stopping. Best iteration:\n",
      "[503]\ttrain-auc:0.999978\teval-auc:0.999836\n",
      "\n"
     ]
    }
   ],
   "source": [
    "watchlist = [(dtrain, 'train'), (dvalid, 'eval')]\n",
    "num_boost_round = 1500 # number of trees\n",
    "# set-up model\n",
    "gbm = xgb.train(params, dtrain, num_boost_round, evals=watchlist, early_stopping_rounds= 20)"
   ]
  },
  {
   "cell_type": "markdown",
   "metadata": {},
   "source": [
    "##### Feature Importance\n",
    "\n",
    "Zip frequency and emptitle frequency are features we created based on existed features, which are in top 30 of feature importance."
   ]
  },
  {
   "cell_type": "code",
   "execution_count": 445,
   "metadata": {
    "collapsed": true
   },
   "outputs": [],
   "source": [
    "importance=gbm.get_fscore()"
   ]
  },
  {
   "cell_type": "code",
   "execution_count": 449,
   "metadata": {
    "collapsed": false
   },
   "outputs": [
    {
     "data": {
      "text/plain": [
       "[('last_pymnt_amnt', 1497),\n",
       " ('last_credit_pull_d', 370),\n",
       " ('issue_d', 548),\n",
       " ('debt_settlement_flag_N', 113),\n",
       " ('total_pymnt', 2093),\n",
       " ('loan_amnt', 1219),\n",
       " ('total_rec_late_fee', 296),\n",
       " ('emp_length', 83),\n",
       " ('recoveries', 141),\n",
       " ('last_pymnt_d', 796),\n",
       " ('total_rec_int', 1322),\n",
       " ('annual_inc', 136),\n",
       " ('revol_bal', 142),\n",
       " ('verification_status_Not Verified', 21),\n",
       " ('int_rate', 351),\n",
       " ('sub_grade_le', 233),\n",
       " ('debt_settlement_flag_Y', 40),\n",
       " ('grade_le', 80),\n",
       " ('revol_util', 128),\n",
       " ('avg_cur_bal', 89),\n",
       " ('mo_sin_old_rev_tl_op', 103),\n",
       " ('mo_sin_old_il_acct', 84),\n",
       " ('bc_util', 100),\n",
       " ('dti', 167),\n",
       " ('total_acc', 52),\n",
       " ('num_tl_op_past_12m', 16),\n",
       " ('acc_open_past_24mths', 55),\n",
       " ('emptitle_freq', 104),\n",
       " ('total_bc_limit', 90),\n",
       " ('num_bc_sats', 38),\n",
       " ('num_il_tl', 41),\n",
       " ('mort_acc', 20),\n",
       " ('num_bc_tl', 63),\n",
       " ('num_actv_rev_tl', 58),\n",
       " ('purpose_debt_consolidation', 15),\n",
       " ('num_op_rev_tl', 28),\n",
       " ('purpose_home_improvement', 1),\n",
       " ('purpose_other', 4),\n",
       " ('num_actv_bc_tl', 31),\n",
       " ('tot_cur_bal', 82),\n",
       " ('total_rev_hi_lim', 71),\n",
       " ('earliest_cr_line', 119),\n",
       " ('mo_sin_rcnt_tl', 44),\n",
       " ('tot_coll_amt', 25),\n",
       " ('addr_state_AL', 2),\n",
       " ('home_ownership_MORTGAGE', 9),\n",
       " ('zipcode_freq', 105),\n",
       " ('mo_sin_rcnt_rev_tl_op', 31),\n",
       " ('verification_status_Verified', 24),\n",
       " ('total_bal_ex_mort', 87),\n",
       " ('verification_status_Source Verified', 18),\n",
       " ('addr_state_NY', 5),\n",
       " ('num_accts_ever_120_pd', 7),\n",
       " ('mths_since_recent_bc', 59),\n",
       " ('percent_bc_gt_75', 26),\n",
       " ('open_acc', 35),\n",
       " ('2015_familyincome_median', 67),\n",
       " ('pub_rec_bankruptcies', 20),\n",
       " ('bc_open_to_buy', 84),\n",
       " ('pct_tl_nvr_dlq', 49),\n",
       " ('num_rev_accts', 52),\n",
       " ('total_il_high_credit_limit', 76),\n",
       " ('delinq_2yrs', 12),\n",
       " ('home_ownership_RENT', 15),\n",
       " ('initial_list_status_w', 11),\n",
       " ('purpose_credit_card', 6),\n",
       " ('mths_since_recent_inq', 52),\n",
       " ('pub_rec', 9),\n",
       " ('home_ownership_OWN', 1),\n",
       " ('initial_list_status_f', 14),\n",
       " ('addr_state_CA', 6),\n",
       " ('inq_last_6mths', 7),\n",
       " ('addr_state_NV', 1),\n",
       " ('addr_state_PA', 6),\n",
       " ('addr_state_MO', 1),\n",
       " ('addr_state_TX', 2),\n",
       " ('addr_state_CO', 1),\n",
       " ('num_tl_90g_dpd_24m', 1),\n",
       " ('addr_state_NC', 1)]"
      ]
     },
     "execution_count": 449,
     "metadata": {},
     "output_type": "execute_result"
    }
   ],
   "source": [
    "list(importance.items())"
   ]
  },
  {
   "cell_type": "code",
   "execution_count": 460,
   "metadata": {
    "collapsed": true
   },
   "outputs": [],
   "source": [
    "df_importance = pd.DataFrame(list(importance.items()), columns=['feature', 'fscore'])\n",
    "df_importance['fscore'] = df_importance['fscore'] / df_importance['fscore'].sum()\n",
    "df_importance.sort_values(['fscore'], ascending=False, inplace=True)"
   ]
  },
  {
   "cell_type": "code",
   "execution_count": 468,
   "metadata": {
    "collapsed": true
   },
   "outputs": [],
   "source": []
  },
  {
   "cell_type": "code",
   "execution_count": 478,
   "metadata": {
    "collapsed": false,
    "scrolled": false
   },
   "outputs": [
    {
     "data": {
      "text/plain": [
       "<matplotlib.text.Text at 0x12e9587f0>"
      ]
     },
     "execution_count": 478,
     "metadata": {},
     "output_type": "execute_result"
    },
    {
     "data": {
      "text/plain": [
       "<matplotlib.figure.Figure at 0x12f081f60>"
      ]
     },
     "metadata": {},
     "output_type": "display_data"
    },
    {
     "data": {
      "image/png": "[encoded data removed]",
      "text/plain": [
       "<matplotlib.figure.Figure at 0x13d344780>"
      ]
     },
     "metadata": {},
     "output_type": "display_data"
    }
   ],
   "source": [
    "plt.figure(figsize=(32, 32))\n",
    "# df_importance.plot()\n",
    "df_importance[:30].plot(kind='barh', x='feature', y='fscore', legend=False, figsize=(6, 10))\n",
    "plt.title('XGBoost Feature Importance')\n",
    "plt.xlabel('relative importance')"
   ]
  },
  {
   "cell_type": "code",
   "execution_count": 623,
   "metadata": {
    "collapsed": true
   },
   "outputs": [],
   "source": [
    "feature_importance = list(df_importance[:50]['feature'])"
   ]
  },
  {
   "cell_type": "code",
   "execution_count": 631,
   "metadata": {
    "collapsed": false
   },
   "outputs": [
    {
     "data": {
      "text/plain": [
       "XGBClassifier(base_score=0.5, booster='gbtree', colsample_bylevel=1,\n",
       "       colsample_bytree=0.6, gamma=1, learning_rate=0.05, max_delta_step=0,\n",
       "       max_depth=6, min_child_weight=5, missing=None, n_estimators=503,\n",
       "       n_jobs=1, nthread=None, objective='binary:logistic', random_state=0,\n",
       "       reg_alpha=0, reg_lambda=1, scale_pos_weight=1, seed=1234, silent=1,\n",
       "       subsample=0.7)"
      ]
     },
     "execution_count": 631,
     "metadata": {},
     "output_type": "execute_result"
    }
   ],
   "source": [
    "best_xgb_iteration=503\n",
    "clf_train = xgb.XGBClassifier(learning_rate = 0.05\n",
    "                  , n_estimators =best_xgb_iteration\n",
    "                  , max_depth = 6\n",
    "                  , min_child_weight = 5\n",
    "                  , subsample = 0.7\n",
    "                  , colsample_bytree = 0.6 \n",
    "                  , gamma = 1\n",
    "                  , seed = 1234\n",
    "                  , silent = 1\n",
    "                  )\n",
    "\n",
    "clf_train.fit(X_train, y_train)"
   ]
  },
  {
   "cell_type": "code",
   "execution_count": 627,
   "metadata": {
    "collapsed": false
   },
   "outputs": [
    {
     "name": "stderr",
     "output_type": "stream",
     "text": [
      "/anaconda/lib/python3.6/site-packages/sklearn/preprocessing/label.py:151: DeprecationWarning: The truth value of an empty array is ambiguous. Returning False, but in future this will result in an error. Use `array.size > 0` to check that an array is not empty.\n",
      "  if diff:\n"
     ]
    }
   ],
   "source": [
    "y_pred_xg= clf_train.predict(X_test)"
   ]
  },
  {
   "cell_type": "code",
   "execution_count": 628,
   "metadata": {
    "collapsed": false
   },
   "outputs": [
    {
     "data": {
      "text/plain": [
       "array([[65306,     1],\n",
       "       [  261, 11320]])"
      ]
     },
     "execution_count": 628,
     "metadata": {},
     "output_type": "execute_result"
    }
   ],
   "source": [
    "confusion_matrix(y_test, y_pred_xg)"
   ]
  },
  {
   "cell_type": "code",
   "execution_count": 629,
   "metadata": {
    "collapsed": true
   },
   "outputs": [],
   "source": [
    "acuscore = accuracy_score(y_test, y_pred_xg)"
   ]
  },
  {
   "cell_type": "code",
   "execution_count": 630,
   "metadata": {
    "collapsed": false
   },
   "outputs": [
    {
     "data": {
      "text/plain": [
       "0.9965924461554468"
      ]
     },
     "execution_count": 630,
     "metadata": {},
     "output_type": "execute_result"
    }
   ],
   "source": [
    "acuscore"
   ]
  },
  {
   "cell_type": "code",
   "execution_count": null,
   "metadata": {
    "collapsed": true
   },
   "outputs": [],
   "source": []
  }
 ],
 "metadata": {
  "kernelspec": {
   "display_name": "Python 2",
   "language": "python",
   "name": "python2"
  },
  "language_info": {
   "codemirror_mode": {
    "name": "ipython",
    "version": 2
   },
   "file_extension": ".py",
   "mimetype": "text/x-python",
   "name": "python",
   "nbconvert_exporter": "python",
   "pygments_lexer": "ipython2",
   "version": "2.7.13"
  }
 },
 "nbformat": 4,
 "nbformat_minor": 2
}
